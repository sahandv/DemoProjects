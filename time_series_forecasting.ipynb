{
  "nbformat": 4,
  "nbformat_minor": 0,
  "metadata": {
    "accelerator": "GPU",
    "colab": {
      "provenance": [],
      "toc_visible": true,
      "collapsed_sections": [
        "IFBfBmYvDYjH"
      ],
      "include_colab_link": true
    },
    "kernelspec": {
      "display_name": "Python 3",
      "language": "python",
      "name": "python3"
    },
    "language_info": {
      "codemirror_mode": {
        "name": "ipython",
        "version": 3
      },
      "file_extension": ".py",
      "mimetype": "text/x-python",
      "name": "python",
      "nbconvert_exporter": "python",
      "pygments_lexer": "ipython3",
      "version": "3.8.5"
    }
  },
  "cells": [
    {
      "cell_type": "markdown",
      "metadata": {
        "id": "view-in-github",
        "colab_type": "text"
      },
      "source": [
        "<a href=\"https://colab.research.google.com/github/sahandv/DemoProjects/blob/main/time_series_forecasting.ipynb\" target=\"_parent\"><img src=\"https://colab.research.google.com/assets/colab-badge.svg\" alt=\"Open In Colab\"/></a>"
      ]
    },
    {
      "cell_type": "markdown",
      "metadata": {
        "id": "CEtsmUJkczAC"
      },
      "source": [
        "## Prepare Cloud"
      ]
    },
    {
      "cell_type": "code",
      "metadata": {
        "id": "dkerTjGRc48S"
      },
      "source": [
        "# datapath = '/home/sahand/GoogleDrive/Data/' # Local\n",
        "datapath = 'drive/My Drive/Data/' # Remote https://drive.google.com/drive/folders/1fUb_p8RyYuKQ--Efr0vFZaojnulCPYT3?usp=sharing"
      ],
      "execution_count": null,
      "outputs": []
    },
    {
      "cell_type": "code",
      "metadata": {
        "id": "LG1NeDL6c8Rb",
        "colab": {
          "base_uri": "https://localhost:8080/"
        },
        "outputId": "d1b18fd1-8d81-45bc-d4ea-70aa12c87055"
      },
      "source": [
        "# NOT REQUIRED. Unless want to save model to drive\n",
        "from google.colab import drive\n",
        "drive.mount('/content/drive/')"
      ],
      "execution_count": null,
      "outputs": [
        {
          "output_type": "stream",
          "name": "stdout",
          "text": [
            "Drive already mounted at /content/drive/; to attempt to forcibly remount, call drive.mount(\"/content/drive/\", force_remount=True).\n"
          ]
        }
      ]
    },
    {
      "cell_type": "code",
      "metadata": {
        "colab": {
          "base_uri": "https://localhost:8080/"
        },
        "id": "q91Y6F9ydBmc",
        "outputId": "fba36ce7-8b09-4c8a-9b59-700c593c667a"
      },
      "source": [
        "!pip install natsort numpy optuna pandas matplotlib seaborn tqdm scikit-learn keras emd"
      ],
      "execution_count": null,
      "outputs": [
        {
          "output_type": "stream",
          "name": "stdout",
          "text": [
            "Requirement already satisfied: natsort in /usr/local/lib/python3.11/dist-packages (8.4.0)\n",
            "Requirement already satisfied: numpy in /usr/local/lib/python3.11/dist-packages (2.0.2)\n",
            "Requirement already satisfied: optuna in /usr/local/lib/python3.11/dist-packages (4.3.0)\n",
            "Requirement already satisfied: pandas in /usr/local/lib/python3.11/dist-packages (2.2.2)\n",
            "Requirement already satisfied: matplotlib in /usr/local/lib/python3.11/dist-packages (3.10.0)\n",
            "Requirement already satisfied: seaborn in /usr/local/lib/python3.11/dist-packages (0.13.2)\n",
            "Requirement already satisfied: tqdm in /usr/local/lib/python3.11/dist-packages (4.67.1)\n",
            "Requirement already satisfied: scikit-learn in /usr/local/lib/python3.11/dist-packages (1.6.1)\n",
            "Requirement already satisfied: keras in /usr/local/lib/python3.11/dist-packages (3.8.0)\n",
            "Requirement already satisfied: emd in /usr/local/lib/python3.11/dist-packages (0.8.1)\n",
            "Requirement already satisfied: alembic>=1.5.0 in /usr/local/lib/python3.11/dist-packages (from optuna) (1.15.2)\n",
            "Requirement already satisfied: colorlog in /usr/local/lib/python3.11/dist-packages (from optuna) (6.9.0)\n",
            "Requirement already satisfied: packaging>=20.0 in /usr/local/lib/python3.11/dist-packages (from optuna) (24.2)\n",
            "Requirement already satisfied: sqlalchemy>=1.4.2 in /usr/local/lib/python3.11/dist-packages (from optuna) (2.0.40)\n",
            "Requirement already satisfied: PyYAML in /usr/local/lib/python3.11/dist-packages (from optuna) (6.0.2)\n",
            "Requirement already satisfied: python-dateutil>=2.8.2 in /usr/local/lib/python3.11/dist-packages (from pandas) (2.9.0.post0)\n",
            "Requirement already satisfied: pytz>=2020.1 in /usr/local/lib/python3.11/dist-packages (from pandas) (2025.2)\n",
            "Requirement already satisfied: tzdata>=2022.7 in /usr/local/lib/python3.11/dist-packages (from pandas) (2025.2)\n",
            "Requirement already satisfied: contourpy>=1.0.1 in /usr/local/lib/python3.11/dist-packages (from matplotlib) (1.3.2)\n",
            "Requirement already satisfied: cycler>=0.10 in /usr/local/lib/python3.11/dist-packages (from matplotlib) (0.12.1)\n",
            "Requirement already satisfied: fonttools>=4.22.0 in /usr/local/lib/python3.11/dist-packages (from matplotlib) (4.58.0)\n",
            "Requirement already satisfied: kiwisolver>=1.3.1 in /usr/local/lib/python3.11/dist-packages (from matplotlib) (1.4.8)\n",
            "Requirement already satisfied: pillow>=8 in /usr/local/lib/python3.11/dist-packages (from matplotlib) (11.2.1)\n",
            "Requirement already satisfied: pyparsing>=2.3.1 in /usr/local/lib/python3.11/dist-packages (from matplotlib) (3.2.3)\n",
            "Requirement already satisfied: scipy>=1.6.0 in /usr/local/lib/python3.11/dist-packages (from scikit-learn) (1.15.3)\n",
            "Requirement already satisfied: joblib>=1.2.0 in /usr/local/lib/python3.11/dist-packages (from scikit-learn) (1.5.0)\n",
            "Requirement already satisfied: threadpoolctl>=3.1.0 in /usr/local/lib/python3.11/dist-packages (from scikit-learn) (3.6.0)\n",
            "Requirement already satisfied: absl-py in /usr/local/lib/python3.11/dist-packages (from keras) (1.4.0)\n",
            "Requirement already satisfied: rich in /usr/local/lib/python3.11/dist-packages (from keras) (13.9.4)\n",
            "Requirement already satisfied: namex in /usr/local/lib/python3.11/dist-packages (from keras) (0.0.9)\n",
            "Requirement already satisfied: h5py in /usr/local/lib/python3.11/dist-packages (from keras) (3.13.0)\n",
            "Requirement already satisfied: optree in /usr/local/lib/python3.11/dist-packages (from keras) (0.15.0)\n",
            "Requirement already satisfied: ml-dtypes in /usr/local/lib/python3.11/dist-packages (from keras) (0.4.1)\n",
            "Requirement already satisfied: dcor in /usr/local/lib/python3.11/dist-packages (from emd) (0.6)\n",
            "Requirement already satisfied: numba in /usr/local/lib/python3.11/dist-packages (from emd) (0.60.0)\n",
            "Requirement already satisfied: sparse in /usr/local/lib/python3.11/dist-packages (from emd) (0.16.0)\n",
            "Requirement already satisfied: tabulate in /usr/local/lib/python3.11/dist-packages (from emd) (0.9.0)\n",
            "Requirement already satisfied: Mako in /usr/lib/python3/dist-packages (from alembic>=1.5.0->optuna) (1.1.3)\n",
            "Requirement already satisfied: typing-extensions>=4.12 in /usr/local/lib/python3.11/dist-packages (from alembic>=1.5.0->optuna) (4.13.2)\n",
            "Requirement already satisfied: six>=1.5 in /usr/local/lib/python3.11/dist-packages (from python-dateutil>=2.8.2->pandas) (1.17.0)\n",
            "Requirement already satisfied: greenlet>=1 in /usr/local/lib/python3.11/dist-packages (from sqlalchemy>=1.4.2->optuna) (3.2.2)\n",
            "Requirement already satisfied: llvmlite<0.44,>=0.43.0dev0 in /usr/local/lib/python3.11/dist-packages (from numba->emd) (0.43.0)\n",
            "Requirement already satisfied: markdown-it-py>=2.2.0 in /usr/local/lib/python3.11/dist-packages (from rich->keras) (3.0.0)\n",
            "Requirement already satisfied: pygments<3.0.0,>=2.13.0 in /usr/local/lib/python3.11/dist-packages (from rich->keras) (2.19.1)\n",
            "Requirement already satisfied: mdurl~=0.1 in /usr/local/lib/python3.11/dist-packages (from markdown-it-py>=2.2.0->rich->keras) (0.1.2)\n"
          ]
        }
      ]
    },
    {
      "cell_type": "markdown",
      "metadata": {
        "id": "bQj_YbU5c6uC"
      },
      "source": [
        "## Import\n"
      ]
    },
    {
      "cell_type": "code",
      "metadata": {
        "id": "WkIbo7UVczAD"
      },
      "source": [
        "import os\n",
        "import glob\n",
        "import pandas as pd\n",
        "import numpy as np\n",
        "from numpy.random import seed\n",
        "from numpy import concatenate\n",
        "from sklearn.metrics import mean_squared_error\n",
        "from sklearn import metrics\n",
        "from sklearn.preprocessing import MinMaxScaler\n",
        "# from keras.preprocessing.sequence import TimeseriesGenerator\n",
        "# from keras.callbacks import ModelCheckpoint\n",
        "# from keras.models import Sequential, load_model\n",
        "# from keras.layers import Dense, Dropout,LSTM,Activation,RepeatVector,TimeDistributed,Conv1D,MaxPooling1D,Flatten,Bidirectional\n",
        "# from keras.optimizers import Adam\n",
        "from math import sqrt\n",
        "from tqdm import tqdm\n",
        "import matplotlib.pyplot as plt\n",
        "import seaborn as sns\n",
        "from datetime import datetime, date, timedelta\n",
        "from numpy.random import seed\n",
        "import pandas as pd\n",
        "from datetime import datetime\n",
        "from google.colab import files as clf\n",
        "import emd\n",
        "\n",
        "seed(50)\n",
        "\n",
        "import tensorflow as tf\n",
        "# physical_devices = tf.config.list_physical_devices('GPU')\n",
        "# tf.config.experimental.set_memory_growth(physical_devices[0], enable=True)\n",
        "import keras\n",
        "\n",
        "\n",
        "def data_reshape_lstm(data_in):\n",
        "    data_list = []\n",
        "    for c in tqdm(np.array(data_in.columns)):\n",
        "        data_col = data_in[c].values\n",
        "        data_col.reshape((len(data_col), 1))\n",
        "        data_list.append(data_col)\n",
        "    data_array = np.array(data_list)\n",
        "    return data_array\n",
        "\n",
        "def target_generator(input,num_steps=5):\n",
        "    from tqdm import tqdm\n",
        "    import numpy as np\n",
        "\n",
        "    output = []\n",
        "    for idx,val in tqdm(enumerate(input)):\n",
        "      output.append(input[idx:idx+num_steps])\n",
        "    output=np.array(output)\n",
        "    return output\n",
        "\n",
        "def plot_graphs(history, string,save_str=''):\n",
        "  plt.plot(history.history[string])\n",
        "  plt.plot(history.history['val_'+string])\n",
        "  plt.xlabel(\"Epochs\")\n",
        "  plt.ylabel(string)\n",
        "  plt.legend([string, 'val_'+string])\n",
        "  plt.savefig(save_str+'.png')\n",
        "  plt.show()\n"
      ],
      "execution_count": null,
      "outputs": []
    },
    {
      "cell_type": "markdown",
      "metadata": {
        "id": "92NzVbmHczAM"
      },
      "source": [
        "## Prepare data\n"
      ]
    },
    {
      "cell_type": "markdown",
      "metadata": {
        "id": "2vPz4cDaDiIX"
      },
      "source": [
        "## Init"
      ]
    },
    {
      "cell_type": "code",
      "metadata": {
        "id": "627U8U7sczAJ",
        "colab": {
          "base_uri": "https://localhost:8080/"
        },
        "outputId": "16e5d394-5e65-4bb0-ead1-51a750102c8e"
      },
      "source": [
        "path = datapath+'lstm' # remote\n",
        "!ls '{path}'"
      ],
      "execution_count": null,
      "outputs": [
        {
          "output_type": "stream",
          "name": "stdout",
          "text": [
            "dataset_upscaled_size.eps  Lintrn.txt  Nomtrn.txt  Notrn.txt  results\n"
          ]
        }
      ]
    },
    {
      "cell_type": "code",
      "metadata": {
        "id": "-FSQMKP6DmX7"
      },
      "source": [
        "experiment_id = 3.1\n",
        "unscale = True\n",
        "sample_file_name = 'Notrn.txt'\n",
        "sample_frequency = 'lf'\n",
        "draw_data = False\n",
        "columns = ['raw','hf','lf']"
      ],
      "execution_count": null,
      "outputs": []
    },
    {
      "cell_type": "markdown",
      "metadata": {
        "id": "pygDkuZdDP5S"
      },
      "source": [
        "# SECT 1"
      ]
    },
    {
      "cell_type": "markdown",
      "metadata": {
        "id": "R7_QTt7wciKF"
      },
      "source": [
        "### Read from file"
      ]
    },
    {
      "cell_type": "code",
      "metadata": {
        "id": "XSCdiiqUC5eu"
      },
      "source": [
        "if draw_data:\n",
        "    fig, ((ax11, ax12, ax13, ax14), (ax21, ax22, ax23, ax24), (ax31, ax32, ax33, ax34)) = plt.subplots(3, 4,sharex='all',sharey=False,figsize=(12,9))\n",
        "    files = ['Notrn.txt','Lintrn.txt','Nomtrn.txt']\n",
        "    data_raw = pd.read_csv(os.path.join(path,files[0]))\n",
        "    data_raw.columns = ['raw','hf','lf']\n",
        "    ax11.plot(data_raw['raw'],linewidth=0.05)\n",
        "    ax12.plot(data_raw['hf'],linewidth=0.05)\n",
        "    ax13.plot(data_raw['lf'],linewidth=1)\n",
        "    data_raw = pd.read_csv(os.path.join(path,files[1]))\n",
        "    data_raw.columns = ['raw','hf','lf','trend']\n",
        "    ax21.plot(data_raw['raw'],linewidth=0.05)\n",
        "    ax22.plot(data_raw['hf'],linewidth=0.05)\n",
        "    ax23.plot(data_raw['lf'],linewidth=1)\n",
        "    ax24.plot(data_raw['trend'],linewidth=1)\n",
        "    data_raw = pd.read_csv(os.path.join(path,files[2]))\n",
        "    data_raw.columns = ['raw','hf','lf','trend']\n",
        "    ax31.plot(data_raw['raw'],linewidth=0.05)\n",
        "    ax32.plot(data_raw['hf'],linewidth=0.05)\n",
        "    ax33.plot(data_raw['lf'],linewidth=1)\n",
        "    ax34.plot(data_raw['trend'],linewidth=1)\n",
        "\n",
        "    ax11.set_title('Input Data')\n",
        "    ax12.set_title('High Frequency')\n",
        "    ax13.set_title('Low Frequency')\n",
        "    ax14.set_title('Trend')\n",
        "\n",
        "    plt.setp(ax11, ylabel='A')\n",
        "    plt.setp(ax21, ylabel='B')\n",
        "    plt.setp(ax31, ylabel='C')\n",
        "\n",
        "    plt.savefig(os.path.join(path,'dataset_upscaled_size.eps'), format='eps')\n",
        "    clf.download(os.path.join(path,'dataset_upscaled_size.eps'))"
      ],
      "execution_count": null,
      "outputs": []
    },
    {
      "cell_type": "code",
      "metadata": {
        "colab": {
          "base_uri": "https://localhost:8080/",
          "height": 673
        },
        "id": "_NWZRlQMciKG",
        "outputId": "8a8dfeed-4210-4c35-dc96-db393974b68c"
      },
      "source": [
        "n_steps = 1\n",
        "data_raw = pd.read_csv(os.path.join(path,sample_file_name))\n",
        "data_raw.columns = columns\n",
        "data_raw.plot()\n",
        "print(data_raw)\n",
        "#Option 1: Go with the original data prediction\n",
        "# data_clean = pd.DataFrame(data_raw['raw'])\n",
        "\n",
        "#Option 2: Go with the hf prediction alone\n",
        "data_clean = pd.DataFrame(data_raw[sample_frequency])\n",
        "\n",
        "data_clean.columns = ['raw']"
      ],
      "execution_count": null,
      "outputs": [
        {
          "output_type": "stream",
          "name": "stdout",
          "text": [
            "          raw        hf       lf\n",
            "0     0.20828 -0.100600  0.25142\n",
            "1     0.23413 -0.067155  0.26019\n",
            "2     0.43148  0.137850  0.26896\n",
            "3     0.39268  0.106800  0.27773\n",
            "4     0.34814  0.070061  0.28651\n",
            "...       ...       ...      ...\n",
            "2869  0.23580 -0.057916  0.39102\n",
            "2870  0.21368 -0.046943  0.37919\n",
            "2871  0.22854  0.000749  0.36726\n",
            "2872  0.31310  0.117970  0.35526\n",
            "2873  0.41121  0.248660  0.34323\n",
            "\n",
            "[2874 rows x 3 columns]\n"
          ]
        },
        {
          "output_type": "display_data",
          "data": {
            "text/plain": [
              "<Figure size 640x480 with 1 Axes>"
            ],
            "image/png": "[encoded data removed]"
          },
          "metadata": {}
        }
      ]
    },
    {
      "cell_type": "markdown",
      "metadata": {
        "id": "6O6KClruciKG"
      },
      "source": [
        "### Configuration"
      ]
    },
    {
      "cell_type": "code",
      "metadata": {
        "id": "FX-dPNHeciKH"
      },
      "source": [
        "n_outputs = 1 # Number of steps to predict for multistep (output)\n",
        "n_input = 100 # Number of input steps\n",
        "\n",
        "day_to_train = int(data_clean.shape[0]*0.7) # Train on 70% of data\n",
        "day_to_test = -(n_outputs+1)"
      ],
      "execution_count": null,
      "outputs": []
    },
    {
      "cell_type": "code",
      "metadata": {
        "colab": {
          "base_uri": "https://localhost:8080/"
        },
        "id": "32CqOj16ciKH",
        "outputId": "c544ae62-de84-4bfe-9bda-82ff39212e93"
      },
      "source": [
        "print(day_to_train,day_to_test)"
      ],
      "execution_count": null,
      "outputs": [
        {
          "output_type": "stream",
          "name": "stdout",
          "text": [
            "2011 -2\n"
          ]
        }
      ]
    },
    {
      "cell_type": "markdown",
      "metadata": {
        "id": "2YWpfXYdciKH"
      },
      "source": [
        "### Preparation"
      ]
    },
    {
      "cell_type": "code",
      "metadata": {
        "id": "c-YC6H7EciKI"
      },
      "source": [
        "min_max_scaler = MinMaxScaler()\n",
        "x_scaled = min_max_scaler.fit_transform(data_clean.values)\n",
        "data_clean['raw'] = x_scaled"
      ],
      "execution_count": null,
      "outputs": []
    },
    {
      "cell_type": "code",
      "metadata": {
        "id": "C6CQ02gUciKI"
      },
      "source": [
        "# data_clean = data_clean[['close-gold','average-gold']]\n",
        "n_features = data_clean.shape[1]\n",
        "\n",
        "# Separate data\n",
        "train= data_clean[:day_to_train]\n",
        "test = data_clean[day_to_train-n_outputs:day_to_test] # we need overlap here for multi-step, because otherwise the historical data will be wasted for test\n",
        "draw = data_clean[day_to_train-n_outputs:day_to_test+n_outputs]"
      ],
      "execution_count": null,
      "outputs": []
    },
    {
      "cell_type": "code",
      "metadata": {
        "id": "A8y-DmVIciKJ"
      },
      "source": [
        "future_predict_data = data_clean[-n_input:].values\n",
        "# future_predict_data = np.expand_dims(future_predict_data,axis=0)"
      ],
      "execution_count": null,
      "outputs": []
    },
    {
      "cell_type": "code",
      "metadata": {
        "colab": {
          "base_uri": "https://localhost:8080/"
        },
        "id": "oHp7dYM7ciKJ",
        "outputId": "4f6afd0b-0714-4eb2-b59b-7fc18ee62767"
      },
      "source": [
        "# Prepare x and y for training\n",
        "y_column = 'raw'\n",
        "\n",
        "x_train = train.values\n",
        "y_train = train[y_column].values\n",
        "y_train_ms = target_generator(data_clean[y_column].values,n_outputs)[:day_to_train]\n",
        "\n",
        "x_test = test.values\n",
        "y_test = test[y_column].values\n",
        "y_test_ms = target_generator(data_clean[y_column].values,n_outputs)[day_to_train-n_outputs:day_to_test]"
      ],
      "execution_count": null,
      "outputs": [
        {
          "output_type": "stream",
          "name": "stderr",
          "text": [
            "2874it [00:00, 1090405.22it/s]\n",
            "2874it [00:00, 1197539.21it/s]\n"
          ]
        }
      ]
    },
    {
      "cell_type": "code",
      "metadata": {
        "id": "3PwAbi-y2Taj"
      },
      "source": [
        "# save GT to disk\n",
        "test_GT = min_max_scaler.inverse_transform(np.expand_dims(y_test,axis=1)[100:])\n",
        "pd.DataFrame(test_GT,columns=['GT']).to_csv('drive/MyDrive/Data/lstm/results/'+sample_file_name+'_'+sample_frequency+'- GT.csv',index=False,header=False)"
      ],
      "execution_count": null,
      "outputs": []
    },
    {
      "cell_type": "code",
      "metadata": {
        "id": "O1hiU0OwI4R-"
      },
      "source": [
        "# Preapare data generators\n",
        "# Reshape input\n",
        "# y_train_s = pd.Series(y_train)\n",
        "# y_train = y_train_s.shift(-forecast+1).values # Shift\n",
        "\n",
        "draw = draw[y_column].values\n",
        "draw = draw[:-1]\n",
        " #x_train.shape[1]\n",
        "train_data_gen = tf.keras.preprocessing.sequence.TimeseriesGenerator(x_train, y_train, length=n_input,stride=1, batch_size=32)\n",
        "test_data_gen = tf.keras.preprocessing.sequence.TimeseriesGenerator(x_test, y_test, length=n_input,stride=1, batch_size=32)\n"
      ],
      "execution_count": null,
      "outputs": []
    },
    {
      "cell_type": "code",
      "metadata": {
        "id": "oDtBAsqbwWZT"
      },
      "source": [
        "# make a list of train data to bypass generator\n",
        "y_all_train = []\n",
        "x_all_train = []\n",
        "for i in range(len(train_data_gen)):\n",
        "    x, y = train_data_gen[i]\n",
        "    y_all_train.append(y)\n",
        "    x_all_train.append(x)"
      ],
      "execution_count": null,
      "outputs": []
    },
    {
      "cell_type": "code",
      "metadata": {
        "id": "Zcn3aHG1HgUQ"
      },
      "source": [
        "# make a list of test data to bypass generator\n",
        "y_all_test = []\n",
        "x_all_test = []\n",
        "for i in range(len(test_data_gen)):\n",
        "    x, y = test_data_gen[i]\n",
        "    y_all_test.append(y)\n",
        "    x_all_test.append(x)"
      ],
      "execution_count": null,
      "outputs": []
    },
    {
      "cell_type": "code",
      "metadata": {
        "id": "5MV8VlMCXGIf"
      },
      "source": [
        "x_all_train = np.concatenate(x_all_train, axis=0)\n",
        "y_all_train = np.concatenate(y_all_train, axis=0)\n",
        "x_all_test = np.concatenate(x_all_test, axis=0)\n",
        "y_all_test = np.concatenate(y_all_test, axis=0)"
      ],
      "execution_count": null,
      "outputs": []
    },
    {
      "cell_type": "code",
      "metadata": {
        "colab": {
          "base_uri": "https://localhost:8080/"
        },
        "id": "0GdGZ2hvx-Pp",
        "outputId": "b8c6fc64-26b8-45eb-e2c0-66c677afabfb"
      },
      "source": [
        "print(day_to_train-n_outputs,day_to_test+n_outputs)"
      ],
      "execution_count": null,
      "outputs": [
        {
          "output_type": "stream",
          "name": "stdout",
          "text": [
            "2010 -1\n"
          ]
        }
      ]
    },
    {
      "cell_type": "code",
      "metadata": {
        "id": "WvGqi8GjYBAQ",
        "colab": {
          "base_uri": "https://localhost:8080/"
        },
        "outputId": "60e0e0c1-0128-4101-de1e-ef17399299b8"
      },
      "source": [
        "y_all_train.shape"
      ],
      "execution_count": null,
      "outputs": [
        {
          "output_type": "execute_result",
          "data": {
            "text/plain": [
              "(1911,)"
            ]
          },
          "metadata": {},
          "execution_count": 116
        }
      ]
    },
    {
      "cell_type": "markdown",
      "metadata": {
        "id": "-uIHGsKdczAT"
      },
      "source": [
        "## Single Step - Select model\n"
      ]
    },
    {
      "cell_type": "code",
      "metadata": {
        "id": "UF31GwXDI4SH",
        "outputId": "239eefc2-b623-4074-f2ca-d66db8f33f35",
        "colab": {
          "base_uri": "https://localhost:8080/"
        }
      },
      "source": [
        "dirName = os.path.join(path,'prediction','single-step')\n",
        "#make the dir if not exist\n",
        "try:\n",
        "    os.makedirs(dirName)\n",
        "    print('created path:',dirName)\n",
        "except:\n",
        "    print('path exists')\n"
      ],
      "execution_count": null,
      "outputs": [
        {
          "output_type": "stream",
          "name": "stdout",
          "text": [
            "created path: drive/My Drive/Data/lstm/prediction/single-step\n"
          ]
        }
      ]
    },
    {
      "cell_type": "code",
      "metadata": {
        "id": "h2110nC-czAT",
        "colab": {
          "base_uri": "https://localhost:8080/",
          "height": 280
        },
        "outputId": "e0dc09fe-5e25-4e36-ba30-08c0b98e25d1"
      },
      "source": [
        "model_type = 'LSTM'\n",
        "if experiment_id==2:\n",
        "    # Prepare model\n",
        "    model = tf.keras.models.Sequential()\n",
        "    model.add(tf.keras.layers.LSTM(units=100,input_shape=(n_input,n_features),return_sequences=False))\n",
        "    model.add(tf.keras.layers.Dropout(0.1))\n",
        "    model.add(tf.keras.layers.Dense(50))\n",
        "    model.add(tf.keras.layers.Dense(1))\n",
        "    # model.add(Activation('sigmoid'))\n",
        "\n",
        "    # ADAM = Adam(0.0003, beta_1=0.9, beta_2=0.999, amsgrad=False)\n",
        "    model.compile(loss='mean_squared_error', optimizer='adam', metrics=['accuracy'])\n",
        "    model.summary()\n",
        "\n",
        "if experiment_id==3:\n",
        "    # Prepare model\n",
        "    model = tf.keras.models.Sequential()\n",
        "    model.add(tf.keras.layers.LSTM(units=100,input_shape=(n_input,n_features),return_sequences=False))\n",
        "    model.add(tf.keras.layers.Dense(50))\n",
        "    model.add(tf.keras.layers.Dense(1))\n",
        "\n",
        "    # ADAM = Adam(0.0003, beta_1=0.9, beta_2=0.999, amsgrad=False)\n",
        "    model.compile(loss='mean_squared_error', optimizer='adam', metrics=['accuracy'])\n",
        "    model.summary()\n",
        "\n",
        "\n",
        "if experiment_id==3.1:\n",
        "    # Prepare model\n",
        "    model = tf.keras.models.Sequential()\n",
        "    model.add(tf.keras.layers.LSTM(units=50,input_shape=(n_input,n_features),return_sequences=False))\n",
        "    model.add(tf.keras.layers.Dense(100))\n",
        "    model.add(tf.keras.layers.Dense(1))\n",
        "\n",
        "    # ADAM = Adam(0.0003, beta_1=0.9, beta_2=0.999, amsgrad=False)\n",
        "    model.compile(loss='mean_squared_error', optimizer='adam', metrics=['accuracy'])\n",
        "    model.summary()"
      ],
      "execution_count": null,
      "outputs": [
        {
          "output_type": "stream",
          "name": "stderr",
          "text": [
            "/usr/local/lib/python3.11/dist-packages/keras/src/layers/rnn/rnn.py:200: UserWarning: Do not pass an `input_shape`/`input_dim` argument to a layer. When using Sequential models, prefer using an `Input(shape)` object as the first layer in the model instead.\n",
            "  super().__init__(**kwargs)\n"
          ]
        },
        {
          "output_type": "display_data",
          "data": {
            "text/plain": [
              "\u001b[1mModel: \"sequential\"\u001b[0m\n"
            ],
            "text/html": [
              "<pre style=\"white-space:pre;overflow-x:auto;line-height:normal;font-family:Menlo,'DejaVu Sans Mono',consolas,'Courier New',monospace\"><span style=\"font-weight: bold\">Model: \"sequential\"</span>\n",
              "</pre>\n"
            ]
          },
          "metadata": {}
        },
        {
          "output_type": "display_data",
          "data": {
            "text/plain": [
              "┏━━━━━━━━━━━━━━━━━━━━━━━━━━━━━━━━━┳━━━━━━━━━━━━━━━━━━━━━━━━┳━━━━━━━━━━━━━━━┓\n",
              "┃\u001b[1m \u001b[0m\u001b[1mLayer (type)                   \u001b[0m\u001b[1m \u001b[0m┃\u001b[1m \u001b[0m\u001b[1mOutput Shape          \u001b[0m\u001b[1m \u001b[0m┃\u001b[1m \u001b[0m\u001b[1m      Param #\u001b[0m\u001b[1m \u001b[0m┃\n",
              "┡━━━━━━━━━━━━━━━━━━━━━━━━━━━━━━━━━╇━━━━━━━━━━━━━━━━━━━━━━━━╇━━━━━━━━━━━━━━━┩\n",
              "│ lstm (\u001b[38;5;33mLSTM\u001b[0m)                     │ (\u001b[38;5;45mNone\u001b[0m, \u001b[38;5;34m50\u001b[0m)             │        \u001b[38;5;34m10,400\u001b[0m │\n",
              "├─────────────────────────────────┼────────────────────────┼───────────────┤\n",
              "│ dense (\u001b[38;5;33mDense\u001b[0m)                   │ (\u001b[38;5;45mNone\u001b[0m, \u001b[38;5;34m100\u001b[0m)            │         \u001b[38;5;34m5,100\u001b[0m │\n",
              "├─────────────────────────────────┼────────────────────────┼───────────────┤\n",
              "│ dense_1 (\u001b[38;5;33mDense\u001b[0m)                 │ (\u001b[38;5;45mNone\u001b[0m, \u001b[38;5;34m1\u001b[0m)              │           \u001b[38;5;34m101\u001b[0m │\n",
              "└─────────────────────────────────┴────────────────────────┴───────────────┘\n"
            ],
            "text/html": [
              "<pre style=\"white-space:pre;overflow-x:auto;line-height:normal;font-family:Menlo,'DejaVu Sans Mono',consolas,'Courier New',monospace\">┏━━━━━━━━━━━━━━━━━━━━━━━━━━━━━━━━━┳━━━━━━━━━━━━━━━━━━━━━━━━┳━━━━━━━━━━━━━━━┓\n",
              "┃<span style=\"font-weight: bold\"> Layer (type)                    </span>┃<span style=\"font-weight: bold\"> Output Shape           </span>┃<span style=\"font-weight: bold\">       Param # </span>┃\n",
              "┡━━━━━━━━━━━━━━━━━━━━━━━━━━━━━━━━━╇━━━━━━━━━━━━━━━━━━━━━━━━╇━━━━━━━━━━━━━━━┩\n",
              "│ lstm (<span style=\"color: #0087ff; text-decoration-color: #0087ff\">LSTM</span>)                     │ (<span style=\"color: #00d7ff; text-decoration-color: #00d7ff\">None</span>, <span style=\"color: #00af00; text-decoration-color: #00af00\">50</span>)             │        <span style=\"color: #00af00; text-decoration-color: #00af00\">10,400</span> │\n",
              "├─────────────────────────────────┼────────────────────────┼───────────────┤\n",
              "│ dense (<span style=\"color: #0087ff; text-decoration-color: #0087ff\">Dense</span>)                   │ (<span style=\"color: #00d7ff; text-decoration-color: #00d7ff\">None</span>, <span style=\"color: #00af00; text-decoration-color: #00af00\">100</span>)            │         <span style=\"color: #00af00; text-decoration-color: #00af00\">5,100</span> │\n",
              "├─────────────────────────────────┼────────────────────────┼───────────────┤\n",
              "│ dense_1 (<span style=\"color: #0087ff; text-decoration-color: #0087ff\">Dense</span>)                 │ (<span style=\"color: #00d7ff; text-decoration-color: #00d7ff\">None</span>, <span style=\"color: #00af00; text-decoration-color: #00af00\">1</span>)              │           <span style=\"color: #00af00; text-decoration-color: #00af00\">101</span> │\n",
              "└─────────────────────────────────┴────────────────────────┴───────────────┘\n",
              "</pre>\n"
            ]
          },
          "metadata": {}
        },
        {
          "output_type": "display_data",
          "data": {
            "text/plain": [
              "\u001b[1m Total params: \u001b[0m\u001b[38;5;34m15,601\u001b[0m (60.94 KB)\n"
            ],
            "text/html": [
              "<pre style=\"white-space:pre;overflow-x:auto;line-height:normal;font-family:Menlo,'DejaVu Sans Mono',consolas,'Courier New',monospace\"><span style=\"font-weight: bold\"> Total params: </span><span style=\"color: #00af00; text-decoration-color: #00af00\">15,601</span> (60.94 KB)\n",
              "</pre>\n"
            ]
          },
          "metadata": {}
        },
        {
          "output_type": "display_data",
          "data": {
            "text/plain": [
              "\u001b[1m Trainable params: \u001b[0m\u001b[38;5;34m15,601\u001b[0m (60.94 KB)\n"
            ],
            "text/html": [
              "<pre style=\"white-space:pre;overflow-x:auto;line-height:normal;font-family:Menlo,'DejaVu Sans Mono',consolas,'Courier New',monospace\"><span style=\"font-weight: bold\"> Trainable params: </span><span style=\"color: #00af00; text-decoration-color: #00af00\">15,601</span> (60.94 KB)\n",
              "</pre>\n"
            ]
          },
          "metadata": {}
        },
        {
          "output_type": "display_data",
          "data": {
            "text/plain": [
              "\u001b[1m Non-trainable params: \u001b[0m\u001b[38;5;34m0\u001b[0m (0.00 B)\n"
            ],
            "text/html": [
              "<pre style=\"white-space:pre;overflow-x:auto;line-height:normal;font-family:Menlo,'DejaVu Sans Mono',consolas,'Courier New',monospace\"><span style=\"font-weight: bold\"> Non-trainable params: </span><span style=\"color: #00af00; text-decoration-color: #00af00\">0</span> (0.00 B)\n",
              "</pre>\n"
            ]
          },
          "metadata": {}
        }
      ]
    },
    {
      "cell_type": "code",
      "metadata": {
        "id": "ogVbO5em1nwz"
      },
      "source": [
        "model_type = 'BILSTM'\n",
        "# Prepare model\n",
        "if experiment_id==4:\n",
        "    input = tf.keras.Input(shape=(None,100,), dtype=\"float32\",name='input_1')\n",
        "    x = tf.keras.layers.Bidirectional(tf.keras.layers.LSTM(100,return_sequences=True))(input)\n",
        "    x = tf.keras.layers.Bidirectional(tf.keras.layers.LSTM(100))(x)\n",
        "    x = tf.keras.layers.Dense(100)(x)\n",
        "    output = tf.keras.layers.Dense(1)(x)\n",
        "    model = tf.keras.Model(inputs=input, outputs=output)\n",
        "    model.compile(loss='mean_squared_error', optimizer='adam', metrics=['accuracy'])\n",
        "    model.summary()\n",
        "\n",
        "if experiment_id==5:\n",
        "    input = tf.keras.Input(shape=(None,100,), dtype=\"float32\",name='input_1')\n",
        "    x = tf.keras.layers.Bidirectional(tf.keras.layers.LSTM(100,return_sequences=True))(input)\n",
        "    x = tf.keras.layers.Bidirectional(tf.keras.layers.LSTM(100))(x)\n",
        "    x = tf.keras.layers.Dense(200)(x)\n",
        "    x = tf.keras.layers.Dense(100)(x)\n",
        "    output = tf.keras.layers.Dense(1)(x)\n",
        "    model = tf.keras.Model(inputs=input, outputs=output)\n",
        "    model.compile(loss='mean_squared_error', optimizer='adam', metrics=['accuracy'])\n",
        "    model.summary()\n",
        "\n",
        "if experiment_id==6:\n",
        "    input = tf.keras.Input(shape=(None,100,), dtype=\"float32\",name='input_1')\n",
        "    x = tf.keras.layers.Bidirectional(tf.keras.layers.LSTM(100,return_sequences=True))(input)\n",
        "    x = tf.keras.layers.Bidirectional(tf.keras.layers.LSTM(100))(x)\n",
        "    x = tf.keras.layers.Dropout(0.1)(x)\n",
        "    x = tf.keras.layers.Dense(200)(x)\n",
        "    x = tf.keras.layers.Dense(100)(x)\n",
        "    output = tf.keras.layers.Dense(1)(x)\n",
        "    model = tf.keras.Model(inputs=input, outputs=output)\n",
        "    model.compile(loss='mean_squared_error', optimizer='adam', metrics=['accuracy'])\n",
        "    model.summary()\n",
        "\n",
        "if experiment_id==7:\n",
        "    input = tf.keras.Input(shape=(None,100,), dtype=\"float32\",name='input_1')\n",
        "    x = tf.keras.layers.Bidirectional(tf.keras.layers.LSTM(100,return_sequences=False))(input)\n",
        "    x = tf.keras.layers.Dense(200)(x)\n",
        "    x = tf.keras.layers.Dense(100)(x)\n",
        "    output = tf.keras.layers.Dense(1)(x)\n",
        "    model = tf.keras.Model(inputs=input, outputs=output)\n",
        "    model.compile(loss='mean_squared_error', optimizer='adam', metrics=['accuracy'])\n",
        "    model.summary()"
      ],
      "execution_count": null,
      "outputs": []
    },
    {
      "cell_type": "code",
      "metadata": {
        "id": "hKofVG3MpNb4"
      },
      "source": [
        "model_type = 'CNN'\n",
        "# Prepare model\n",
        "if experiment_id==8:\n",
        "    model = tf.keras.Sequential()\n",
        "    model.add(tf.keras.layers.Conv1D(filters=250,kernel_size=25,activation='relu',input_shape=(n_input,n_features)))\n",
        "    model.add(tf.keras.layers.MaxPooling1D(pool_size=2,strides=2))\n",
        "    model.add(tf.keras.layers.Conv1D(filters=50,kernel_size=3,activation='relu')) # 128 neurons with kernel size of 5 words\n",
        "    model.add(tf.keras.layers.GlobalMaxPooling1D())\n",
        "    model.add(tf.keras.layers.Dropout(0.1))\n",
        "    model.add(tf.keras.layers.Dense(50))\n",
        "    model.add(tf.keras.layers.Dense(1))\n",
        "    model.compile(loss='mean_squared_error', optimizer='adam', metrics=['accuracy'])\n",
        "    model.summary()\n",
        "\n",
        "if experiment_id==9:\n",
        "    model = tf.keras.Sequential()\n",
        "    model.add(tf.keras.layers.Conv1D(filters=100,kernel_size=25,activation='relu',input_shape=(n_input,n_features)))\n",
        "    model.add(tf.keras.layers.MaxPooling1D(pool_size=2,strides=2))\n",
        "    model.add(tf.keras.layers.Conv1D(filters=50,kernel_size=3,activation='relu'))\n",
        "    model.add(tf.keras.layers.GlobalMaxPooling1D())\n",
        "    model.add(tf.keras.layers.Dense(50))\n",
        "    model.add(tf.keras.layers.Dense(1))\n",
        "    model.compile(loss='mean_squared_error', optimizer='adam', metrics=['accuracy'])\n",
        "    model.summary()\n",
        "\n",
        "if experiment_id==10:\n",
        "    model = tf.keras.Sequential()\n",
        "    model.add(tf.keras.layers.Conv1D(filters=100,kernel_size=3,activation='relu',input_shape=(n_input,n_features)))\n",
        "    model.add(tf.keras.layers.Conv1D(filters=100,kernel_size=8,activation='relu',input_shape=(n_input,n_features)))\n",
        "    model.add(tf.keras.layers.MaxPooling1D(pool_size=2,strides=2))# model.add(LSTM(units=200))\n",
        "    model.add(tf.keras.layers.Conv1D(filters=75,kernel_size=5,activation='relu',input_shape=(n_input,n_features)))\n",
        "    model.add(tf.keras.layers.MaxPooling1D(pool_size=2,strides=2))# model.add(LSTM(units=200))\n",
        "    model.add(tf.keras.layers.Conv1D(filters=50,kernel_size=3,activation='relu'))\n",
        "    model.add(tf.keras.layers.GlobalMaxPooling1D())\n",
        "    # model.add(tf.keras.layers.LSTM(units=200))\n",
        "    model.add(tf.keras.layers.Dense(50))\n",
        "    model.add(tf.keras.layers.Dense(1))\n",
        "    model.compile(loss='mean_squared_error', optimizer='adam', metrics=['accuracy'])\n",
        "    model.summary()\n",
        "\n",
        "\n",
        "\n",
        "# model = Sequential()\n",
        "# # Encoder\n",
        "# model.add(Conv1D(filters=100, kernel_size=3, activation='relu', input_shape=(n_input,n_features)))\n",
        "# model.add(Conv1D(filters=200, kernel_size=3, activation='relu'))\n",
        "# # model.add(Dropout(0.1))\n",
        "# model.add(MaxPooling1D(pool_size=2))\n",
        "# model.add(Flatten())\n",
        "# model.add(RepeatVector(n_outputs))\n",
        "# # Decoder\n",
        "# model.add(LSTM(100, activation='relu', return_sequences=True))\n",
        "# # model.add(Dropout(0.1))\n",
        "# model.add(TimeDistributed(Dense(100, activation='relu')))\n",
        "# model.add(TimeDistributed(Dense(1)))\n",
        "# model.compile(loss='mse', optimizer='adam')\n",
        "# model.summary()"
      ],
      "execution_count": null,
      "outputs": []
    },
    {
      "cell_type": "markdown",
      "metadata": {
        "id": "G2_pveEuQ5Ph"
      },
      "source": [
        "## Train"
      ]
    },
    {
      "cell_type": "code",
      "metadata": {
        "id": "qFPZm2W7czAX",
        "colab": {
          "base_uri": "https://localhost:8080/",
          "height": 1000
        },
        "outputId": "8ebfa101-e914-469c-975f-86180ee0e15b"
      },
      "source": [
        "# Train\n",
        "os.makedirs(dirName,exist_ok=True)\n",
        "os.makedirs('drive/MyDrive/Data/lstm/results/train plots/')\n",
        "print('created path:',dirName)\n",
        "checkpoint = tf.keras.callbacks.ModelCheckpoint(dirName+'/ts-model-epoch:{epoch:03d}-val-loss:{val_loss:05f}.h5', verbose=1, monitor='val_loss',save_best_only=True, mode='auto')\n",
        "callback = tf.keras.callbacks.EarlyStopping(monitor='val_loss',patience=25)\n",
        "\n",
        "history = model.fit(train_data_gen,\n",
        "                            validation_data=test_data_gen, callbacks=[checkpoint,callback],\n",
        "                            epochs=300,verbose=1,shuffle=False)\n",
        "plot_graphs(history,'loss',save_str='drive/MyDrive/Data/lstm/results/train plots/'+str(experiment_id)+'_'+sample_file_name+'_'+sample_frequency)"
      ],
      "execution_count": null,
      "outputs": [
        {
          "output_type": "stream",
          "name": "stdout",
          "text": [
            "created path: drive/My Drive/Data/lstm/prediction/single-step\n",
            "Epoch 1/300\n"
          ]
        },
        {
          "output_type": "stream",
          "name": "stderr",
          "text": [
            "/usr/local/lib/python3.11/dist-packages/keras/src/trainers/data_adapters/py_dataset_adapter.py:121: UserWarning: Your `PyDataset` class should call `super().__init__(**kwargs)` in its constructor. `**kwargs` can include `workers`, `use_multiprocessing`, `max_queue_size`. Do not pass these arguments to `fit()`, as they will be ignored.\n",
            "  self._warn_if_super_not_called()\n"
          ]
        },
        {
          "output_type": "stream",
          "name": "stdout",
          "text": [
            "\u001b[1m57/60\u001b[0m \u001b[32m━━━━━━━━━━━━━━━━━━━\u001b[0m\u001b[37m━\u001b[0m \u001b[1m0s\u001b[0m 11ms/step - accuracy: 0.0000e+00 - loss: 0.0587\n",
            "Epoch 1: val_loss improved from inf to 0.00176, saving model to drive/My Drive/Data/lstm/prediction/single-step/ts-model-epoch:001-val-loss:0.001762.h5\n",
            "\u001b[1m60/60\u001b[0m \u001b[32m━━━━━━━━━━━━━━━━━━━━\u001b[0m\u001b[37m\u001b[0m \u001b[1m5s\u001b[0m 39ms/step - accuracy: 0.0000e+00 - loss: 0.0565 - val_accuracy: 0.0026 - val_loss: 0.0018\n",
            "Epoch 2/300\n",
            "\u001b[1m58/60\u001b[0m \u001b[32m━━━━━━━━━━━━━━━━━━━\u001b[0m\u001b[37m━\u001b[0m \u001b[1m0s\u001b[0m 9ms/step - accuracy: 0.0000e+00 - loss: 0.0013\n",
            "Epoch 2: val_loss improved from 0.00176 to 0.00042, saving model to drive/My Drive/Data/lstm/prediction/single-step/ts-model-epoch:002-val-loss:0.000424.h5\n",
            "\u001b[1m60/60\u001b[0m \u001b[32m━━━━━━━━━━━━━━━━━━━━\u001b[0m\u001b[37m\u001b[0m \u001b[1m2s\u001b[0m 11ms/step - accuracy: 0.0000e+00 - loss: 0.0013 - val_accuracy: 0.0026 - val_loss: 4.2428e-04\n",
            "Epoch 3/300\n",
            "\u001b[1m56/60\u001b[0m \u001b[32m━━━━━━━━━━━━━━━━━━\u001b[0m\u001b[37m━━\u001b[0m \u001b[1m0s\u001b[0m 7ms/step - accuracy: 0.0000e+00 - loss: 2.9272e-04\n",
            "Epoch 3: val_loss improved from 0.00042 to 0.00028, saving model to drive/My Drive/Data/lstm/prediction/single-step/ts-model-epoch:003-val-loss:0.000277.h5\n",
            "\u001b[1m60/60\u001b[0m \u001b[32m━━━━━━━━━━━━━━━━━━━━\u001b[0m\u001b[37m\u001b[0m \u001b[1m1s\u001b[0m 9ms/step - accuracy: 0.0000e+00 - loss: 2.8138e-04 - val_accuracy: 0.0026 - val_loss: 2.7749e-04\n",
            "Epoch 4/300\n",
            "\u001b[1m57/60\u001b[0m \u001b[32m━━━━━━━━━━━━━━━━━━━\u001b[0m\u001b[37m━\u001b[0m \u001b[1m0s\u001b[0m 7ms/step - accuracy: 0.0000e+00 - loss: 0.0016\n",
            "Epoch 4: val_loss did not improve from 0.00028\n",
            "\u001b[1m60/60\u001b[0m \u001b[32m━━━━━━━━━━━━━━━━━━━━\u001b[0m\u001b[37m\u001b[0m \u001b[1m1s\u001b[0m 9ms/step - accuracy: 0.0000e+00 - loss: 0.0017 - val_accuracy: 0.0026 - val_loss: 5.1881e-04\n",
            "Epoch 5/300\n",
            "\u001b[1m57/60\u001b[0m \u001b[32m━━━━━━━━━━━━━━━━━━━\u001b[0m\u001b[37m━\u001b[0m \u001b[1m0s\u001b[0m 7ms/step - accuracy: 0.0000e+00 - loss: 4.5480e-04\n",
            "Epoch 5: val_loss improved from 0.00028 to 0.00004, saving model to drive/My Drive/Data/lstm/prediction/single-step/ts-model-epoch:005-val-loss:0.000044.h5\n",
            "\u001b[1m60/60\u001b[0m \u001b[32m━━━━━━━━━━━━━━━━━━━━\u001b[0m\u001b[37m\u001b[0m \u001b[1m1s\u001b[0m 10ms/step - accuracy: 0.0000e+00 - loss: 4.4477e-04 - val_accuracy: 0.0026 - val_loss: 4.3708e-05\n",
            "Epoch 6/300\n",
            "\u001b[1m57/60\u001b[0m \u001b[32m━━━━━━━━━━━━━━━━━━━\u001b[0m\u001b[37m━\u001b[0m \u001b[1m0s\u001b[0m 7ms/step - accuracy: 0.0000e+00 - loss: 3.0142e-05\n",
            "Epoch 6: val_loss improved from 0.00004 to 0.00002, saving model to drive/My Drive/Data/lstm/prediction/single-step/ts-model-epoch:006-val-loss:0.000018.h5\n",
            "\u001b[1m60/60\u001b[0m \u001b[32m━━━━━━━━━━━━━━━━━━━━\u001b[0m\u001b[37m\u001b[0m \u001b[1m1s\u001b[0m 9ms/step - accuracy: 0.0000e+00 - loss: 2.9533e-05 - val_accuracy: 0.0026 - val_loss: 1.8338e-05\n",
            "Epoch 7/300\n",
            "\u001b[1m59/60\u001b[0m \u001b[32m━━━━━━━━━━━━━━━━━━━\u001b[0m\u001b[37m━\u001b[0m \u001b[1m0s\u001b[0m 7ms/step - accuracy: 0.0000e+00 - loss: 6.2578e-05\n",
            "Epoch 7: val_loss did not improve from 0.00002\n",
            "\u001b[1m60/60\u001b[0m \u001b[32m━━━━━━━━━━━━━━━━━━━━\u001b[0m\u001b[37m\u001b[0m \u001b[1m1s\u001b[0m 9ms/step - accuracy: 0.0000e+00 - loss: 6.6555e-05 - val_accuracy: 0.0026 - val_loss: 0.0018\n",
            "Epoch 8/300\n",
            "\u001b[1m57/60\u001b[0m \u001b[32m━━━━━━━━━━━━━━━━━━━\u001b[0m\u001b[37m━\u001b[0m \u001b[1m0s\u001b[0m 7ms/step - accuracy: 0.0000e+00 - loss: 0.0023\n",
            "Epoch 8: val_loss did not improve from 0.00002\n",
            "\u001b[1m60/60\u001b[0m \u001b[32m━━━━━━━━━━━━━━━━━━━━\u001b[0m\u001b[37m\u001b[0m \u001b[1m1s\u001b[0m 9ms/step - accuracy: 0.0000e+00 - loss: 0.0023 - val_accuracy: 0.0026 - val_loss: 1.5852e-04\n",
            "Epoch 9/300\n",
            "\u001b[1m55/60\u001b[0m \u001b[32m━━━━━━━━━━━━━━━━━━\u001b[0m\u001b[37m━━\u001b[0m \u001b[1m0s\u001b[0m 7ms/step - accuracy: 0.0000e+00 - loss: 9.6840e-05\n",
            "Epoch 9: val_loss improved from 0.00002 to 0.00001, saving model to drive/My Drive/Data/lstm/prediction/single-step/ts-model-epoch:009-val-loss:0.000011.h5\n",
            "\u001b[1m60/60\u001b[0m \u001b[32m━━━━━━━━━━━━━━━━━━━━\u001b[0m\u001b[37m\u001b[0m \u001b[1m1s\u001b[0m 10ms/step - accuracy: 0.0000e+00 - loss: 9.2307e-05 - val_accuracy: 0.0026 - val_loss: 1.1461e-05\n",
            "Epoch 10/300\n",
            "\u001b[1m57/60\u001b[0m \u001b[32m━━━━━━━━━━━━━━━━━━━\u001b[0m\u001b[37m━\u001b[0m \u001b[1m0s\u001b[0m 7ms/step - accuracy: 0.0000e+00 - loss: 1.3501e-05\n",
            "Epoch 10: val_loss did not improve from 0.00001\n",
            "\u001b[1m60/60\u001b[0m \u001b[32m━━━━━━━━━━━━━━━━━━━━\u001b[0m\u001b[37m\u001b[0m \u001b[1m1s\u001b[0m 9ms/step - accuracy: 0.0000e+00 - loss: 1.4076e-05 - val_accuracy: 0.0026 - val_loss: 6.3561e-05\n",
            "Epoch 11/300\n",
            "\u001b[1m54/60\u001b[0m \u001b[32m━━━━━━━━━━━━━━━━━━\u001b[0m\u001b[37m━━\u001b[0m \u001b[1m0s\u001b[0m 7ms/step - accuracy: 0.0000e+00 - loss: 2.1311e-04\n",
            "Epoch 11: val_loss did not improve from 0.00001\n",
            "\u001b[1m60/60\u001b[0m \u001b[32m━━━━━━━━━━━━━━━━━━━━\u001b[0m\u001b[37m\u001b[0m \u001b[1m1s\u001b[0m 9ms/step - accuracy: 0.0000e+00 - loss: 2.5111e-04 - val_accuracy: 0.0026 - val_loss: 0.0018\n",
            "Epoch 12/300\n",
            "\u001b[1m57/60\u001b[0m \u001b[32m━━━━━━━━━━━━━━━━━━━\u001b[0m\u001b[37m━\u001b[0m \u001b[1m0s\u001b[0m 7ms/step - accuracy: 0.0000e+00 - loss: 0.0020\n",
            "Epoch 12: val_loss did not improve from 0.00001\n",
            "\u001b[1m60/60\u001b[0m \u001b[32m━━━━━━━━━━━━━━━━━━━━\u001b[0m\u001b[37m\u001b[0m \u001b[1m1s\u001b[0m 9ms/step - accuracy: 0.0000e+00 - loss: 0.0020 - val_accuracy: 0.0026 - val_loss: 5.5909e-05\n",
            "Epoch 13/300\n",
            "\u001b[1m56/60\u001b[0m \u001b[32m━━━━━━━━━━━━━━━━━━\u001b[0m\u001b[37m━━\u001b[0m \u001b[1m0s\u001b[0m 7ms/step - accuracy: 0.0000e+00 - loss: 6.4233e-05\n",
            "Epoch 13: val_loss improved from 0.00001 to 0.00001, saving model to drive/My Drive/Data/lstm/prediction/single-step/ts-model-epoch:013-val-loss:0.000007.h5\n",
            "\u001b[1m60/60\u001b[0m \u001b[32m━━━━━━━━━━━━━━━━━━━━\u001b[0m\u001b[37m\u001b[0m \u001b[1m1s\u001b[0m 9ms/step - accuracy: 0.0000e+00 - loss: 6.2118e-05 - val_accuracy: 0.0026 - val_loss: 6.8080e-06\n",
            "Epoch 14/300\n",
            "\u001b[1m56/60\u001b[0m \u001b[32m━━━━━━━━━━━━━━━━━━\u001b[0m\u001b[37m━━\u001b[0m \u001b[1m0s\u001b[0m 7ms/step - accuracy: 0.0000e+00 - loss: 6.4352e-06\n",
            "Epoch 14: val_loss improved from 0.00001 to 0.00001, saving model to drive/My Drive/Data/lstm/prediction/single-step/ts-model-epoch:014-val-loss:0.000006.h5\n",
            "\u001b[1m60/60\u001b[0m \u001b[32m━━━━━━━━━━━━━━━━━━━━\u001b[0m\u001b[37m\u001b[0m \u001b[1m1s\u001b[0m 9ms/step - accuracy: 0.0000e+00 - loss: 6.4471e-06 - val_accuracy: 0.0026 - val_loss: 6.4911e-06\n",
            "Epoch 15/300\n",
            "\u001b[1m57/60\u001b[0m \u001b[32m━━━━━━━━━━━━━━━━━━━\u001b[0m\u001b[37m━\u001b[0m \u001b[1m0s\u001b[0m 7ms/step - accuracy: 0.0000e+00 - loss: 6.3699e-06\n",
            "Epoch 15: val_loss did not improve from 0.00001\n",
            "\u001b[1m60/60\u001b[0m \u001b[32m━━━━━━━━━━━━━━━━━━━━\u001b[0m\u001b[37m\u001b[0m \u001b[1m1s\u001b[0m 9ms/step - accuracy: 0.0000e+00 - loss: 6.4958e-06 - val_accuracy: 0.0026 - val_loss: 1.4667e-05\n",
            "Epoch 16/300\n",
            "\u001b[1m54/60\u001b[0m \u001b[32m━━━━━━━━━━━━━━━━━━\u001b[0m\u001b[37m━━\u001b[0m \u001b[1m0s\u001b[0m 7ms/step - accuracy: 0.0000e+00 - loss: 4.5631e-05\n",
            "Epoch 16: val_loss did not improve from 0.00001\n",
            "\u001b[1m60/60\u001b[0m \u001b[32m━━━━━━━━━━━━━━━━━━━━\u001b[0m\u001b[37m\u001b[0m \u001b[1m1s\u001b[0m 9ms/step - accuracy: 0.0000e+00 - loss: 6.0516e-05 - val_accuracy: 0.0026 - val_loss: 0.0017\n",
            "Epoch 17/300\n",
            "\u001b[1m58/60\u001b[0m \u001b[32m━━━━━━━━━━━━━━━━━━━\u001b[0m\u001b[37m━\u001b[0m \u001b[1m0s\u001b[0m 10ms/step - accuracy: 0.0000e+00 - loss: 0.0024\n",
            "Epoch 17: val_loss did not improve from 0.00001\n",
            "\u001b[1m60/60\u001b[0m \u001b[32m━━━━━━━━━━━━━━━━━━━━\u001b[0m\u001b[37m\u001b[0m \u001b[1m1s\u001b[0m 12ms/step - accuracy: 0.0000e+00 - loss: 0.0023 - val_accuracy: 0.0026 - val_loss: 1.9967e-04\n",
            "Epoch 18/300\n",
            "\u001b[1m58/60\u001b[0m \u001b[32m━━━━━━━━━━━━━━━━━━━\u001b[0m\u001b[37m━\u001b[0m \u001b[1m0s\u001b[0m 10ms/step - accuracy: 0.0000e+00 - loss: 2.1439e-04\n",
            "Epoch 18: val_loss did not improve from 0.00001\n",
            "\u001b[1m60/60\u001b[0m \u001b[32m━━━━━━━━━━━━━━━━━━━━\u001b[0m\u001b[37m\u001b[0m \u001b[1m1s\u001b[0m 13ms/step - accuracy: 0.0000e+00 - loss: 2.0973e-04 - val_accuracy: 0.0026 - val_loss: 1.1535e-05\n",
            "Epoch 19/300\n",
            "\u001b[1m59/60\u001b[0m \u001b[32m━━━━━━━━━━━━━━━━━━━\u001b[0m\u001b[37m━\u001b[0m \u001b[1m0s\u001b[0m 10ms/step - accuracy: 0.0000e+00 - loss: 1.5680e-05\n",
            "Epoch 19: val_loss did not improve from 0.00001\n",
            "\u001b[1m60/60\u001b[0m \u001b[32m━━━━━━━━━━━━━━━━━━━━\u001b[0m\u001b[37m\u001b[0m \u001b[1m1s\u001b[0m 13ms/step - accuracy: 0.0000e+00 - loss: 1.5834e-05 - val_accuracy: 0.0026 - val_loss: 1.9728e-05\n",
            "Epoch 20/300\n",
            "\u001b[1m57/60\u001b[0m \u001b[32m━━━━━━━━━━━━━━━━━━━\u001b[0m\u001b[37m━\u001b[0m \u001b[1m0s\u001b[0m 8ms/step - accuracy: 0.0000e+00 - loss: 4.0580e-05\n",
            "Epoch 20: val_loss did not improve from 0.00001\n",
            "\u001b[1m60/60\u001b[0m \u001b[32m━━━━━━━━━━━━━━━━━━━━\u001b[0m\u001b[37m\u001b[0m \u001b[1m1s\u001b[0m 10ms/step - accuracy: 0.0000e+00 - loss: 4.1826e-05 - val_accuracy: 0.0026 - val_loss: 2.1347e-04\n",
            "Epoch 21/300\n",
            "\u001b[1m57/60\u001b[0m \u001b[32m━━━━━━━━━━━━━━━━━━━\u001b[0m\u001b[37m━\u001b[0m \u001b[1m0s\u001b[0m 7ms/step - accuracy: 0.0000e+00 - loss: 4.7720e-04\n",
            "Epoch 21: val_loss did not improve from 0.00001\n",
            "\u001b[1m60/60\u001b[0m \u001b[32m━━━━━━━━━━━━━━━━━━━━\u001b[0m\u001b[37m\u001b[0m \u001b[1m1s\u001b[0m 9ms/step - accuracy: 0.0000e+00 - loss: 4.8823e-04 - val_accuracy: 0.0026 - val_loss: 4.9945e-04\n",
            "Epoch 22/300\n",
            "\u001b[1m57/60\u001b[0m \u001b[32m━━━━━━━━━━━━━━━━━━━\u001b[0m\u001b[37m━\u001b[0m \u001b[1m0s\u001b[0m 7ms/step - accuracy: 0.0000e+00 - loss: 6.8800e-04\n",
            "Epoch 22: val_loss did not improve from 0.00001\n",
            "\u001b[1m60/60\u001b[0m \u001b[32m━━━━━━━━━━━━━━━━━━━━\u001b[0m\u001b[37m\u001b[0m \u001b[1m1s\u001b[0m 9ms/step - accuracy: 0.0000e+00 - loss: 6.7867e-04 - val_accuracy: 0.0026 - val_loss: 3.5431e-05\n",
            "Epoch 23/300\n",
            "\u001b[1m53/60\u001b[0m \u001b[32m━━━━━━━━━━━━━━━━━\u001b[0m\u001b[37m━━━\u001b[0m \u001b[1m0s\u001b[0m 7ms/step - accuracy: 0.0000e+00 - loss: 7.3770e-05\n",
            "Epoch 23: val_loss did not improve from 0.00001\n",
            "\u001b[1m60/60\u001b[0m \u001b[32m━━━━━━━━━━━━━━━━━━━━\u001b[0m\u001b[37m\u001b[0m \u001b[1m1s\u001b[0m 10ms/step - accuracy: 0.0000e+00 - loss: 7.4961e-05 - val_accuracy: 0.0026 - val_loss: 6.4764e-05\n",
            "Epoch 24/300\n",
            "\u001b[1m57/60\u001b[0m \u001b[32m━━━━━━━━━━━━━━━━━━━\u001b[0m\u001b[37m━\u001b[0m \u001b[1m0s\u001b[0m 7ms/step - accuracy: 0.0000e+00 - loss: 1.1869e-04\n",
            "Epoch 24: val_loss did not improve from 0.00001\n",
            "\u001b[1m60/60\u001b[0m \u001b[32m━━━━━━━━━━━━━━━━━━━━\u001b[0m\u001b[37m\u001b[0m \u001b[1m1s\u001b[0m 9ms/step - accuracy: 0.0000e+00 - loss: 1.2076e-04 - val_accuracy: 0.0026 - val_loss: 3.0584e-04\n",
            "Epoch 25/300\n",
            "\u001b[1m54/60\u001b[0m \u001b[32m━━━━━━━━━━━━━━━━━━\u001b[0m\u001b[37m━━\u001b[0m \u001b[1m0s\u001b[0m 7ms/step - accuracy: 0.0000e+00 - loss: 5.2944e-04\n",
            "Epoch 25: val_loss did not improve from 0.00001\n",
            "\u001b[1m60/60\u001b[0m \u001b[32m━━━━━━━━━━━━━━━━━━━━\u001b[0m\u001b[37m\u001b[0m \u001b[1m1s\u001b[0m 9ms/step - accuracy: 0.0000e+00 - loss: 5.3905e-04 - val_accuracy: 0.0026 - val_loss: 3.2888e-04\n",
            "Epoch 26/300\n",
            "\u001b[1m57/60\u001b[0m \u001b[32m━━━━━━━━━━━━━━━━━━━\u001b[0m\u001b[37m━\u001b[0m \u001b[1m0s\u001b[0m 7ms/step - accuracy: 0.0000e+00 - loss: 4.7578e-04\n",
            "Epoch 26: val_loss did not improve from 0.00001\n",
            "\u001b[1m60/60\u001b[0m \u001b[32m━━━━━━━━━━━━━━━━━━━━\u001b[0m\u001b[37m\u001b[0m \u001b[1m1s\u001b[0m 9ms/step - accuracy: 0.0000e+00 - loss: 4.7247e-04 - val_accuracy: 0.0026 - val_loss: 1.4679e-04\n",
            "Epoch 27/300\n",
            "\u001b[1m56/60\u001b[0m \u001b[32m━━━━━━━━━━━━━━━━━━\u001b[0m\u001b[37m━━\u001b[0m \u001b[1m0s\u001b[0m 7ms/step - accuracy: 0.0000e+00 - loss: 2.4277e-04\n",
            "Epoch 27: val_loss did not improve from 0.00001\n",
            "\u001b[1m60/60\u001b[0m \u001b[32m━━━━━━━━━━━━━━━━━━━━\u001b[0m\u001b[37m\u001b[0m \u001b[1m1s\u001b[0m 9ms/step - accuracy: 0.0000e+00 - loss: 2.4273e-04 - val_accuracy: 0.0026 - val_loss: 1.1811e-04\n",
            "Epoch 28/300\n",
            "\u001b[1m55/60\u001b[0m \u001b[32m━━━━━━━━━━━━━━━━━━\u001b[0m\u001b[37m━━\u001b[0m \u001b[1m0s\u001b[0m 7ms/step - accuracy: 0.0000e+00 - loss: 1.8576e-04\n",
            "Epoch 28: val_loss did not improve from 0.00001\n",
            "\u001b[1m60/60\u001b[0m \u001b[32m━━━━━━━━━━━━━━━━━━━━\u001b[0m\u001b[37m\u001b[0m \u001b[1m1s\u001b[0m 9ms/step - accuracy: 0.0000e+00 - loss: 1.8715e-04 - val_accuracy: 0.0026 - val_loss: 2.3675e-04\n",
            "Epoch 29/300\n",
            "\u001b[1m56/60\u001b[0m \u001b[32m━━━━━━━━━━━━━━━━━━\u001b[0m\u001b[37m━━\u001b[0m \u001b[1m0s\u001b[0m 7ms/step - accuracy: 0.0000e+00 - loss: 3.9013e-04\n",
            "Epoch 29: val_loss did not improve from 0.00001\n",
            "\u001b[1m60/60\u001b[0m \u001b[32m━━━━━━━━━━━━━━━━━━━━\u001b[0m\u001b[37m\u001b[0m \u001b[1m1s\u001b[0m 9ms/step - accuracy: 0.0000e+00 - loss: 3.9407e-04 - val_accuracy: 0.0026 - val_loss: 3.3274e-04\n",
            "Epoch 30/300\n",
            "\u001b[1m55/60\u001b[0m \u001b[32m━━━━━━━━━━━━━━━━━━\u001b[0m\u001b[37m━━\u001b[0m \u001b[1m0s\u001b[0m 7ms/step - accuracy: 0.0000e+00 - loss: 4.7863e-04\n",
            "Epoch 30: val_loss did not improve from 0.00001\n",
            "\u001b[1m60/60\u001b[0m \u001b[32m━━━━━━━━━━━━━━━━━━━━\u001b[0m\u001b[37m\u001b[0m \u001b[1m1s\u001b[0m 10ms/step - accuracy: 0.0000e+00 - loss: 4.7742e-04 - val_accuracy: 0.0026 - val_loss: 2.5856e-04\n",
            "Epoch 31/300\n",
            "\u001b[1m57/60\u001b[0m \u001b[32m━━━━━━━━━━━━━━━━━━━\u001b[0m\u001b[37m━\u001b[0m \u001b[1m0s\u001b[0m 7ms/step - accuracy: 0.0000e+00 - loss: 4.0521e-04\n",
            "Epoch 31: val_loss did not improve from 0.00001\n",
            "\u001b[1m60/60\u001b[0m \u001b[32m━━━━━━━━━━━━━━━━━━━━\u001b[0m\u001b[37m\u001b[0m \u001b[1m1s\u001b[0m 9ms/step - accuracy: 0.0000e+00 - loss: 4.0365e-04 - val_accuracy: 0.0026 - val_loss: 1.3927e-04\n",
            "Epoch 32/300\n",
            "\u001b[1m53/60\u001b[0m \u001b[32m━━━━━━━━━━━━━━━━━\u001b[0m\u001b[37m━━━\u001b[0m \u001b[1m0s\u001b[0m 7ms/step - accuracy: 0.0000e+00 - loss: 2.1481e-04\n",
            "Epoch 32: val_loss did not improve from 0.00001\n",
            "\u001b[1m60/60\u001b[0m \u001b[32m━━━━━━━━━━━━━━━━━━━━\u001b[0m\u001b[37m\u001b[0m \u001b[1m1s\u001b[0m 9ms/step - accuracy: 0.0000e+00 - loss: 2.1469e-04 - val_accuracy: 0.0026 - val_loss: 1.9196e-04\n",
            "Epoch 33/300\n",
            "\u001b[1m57/60\u001b[0m \u001b[32m━━━━━━━━━━━━━━━━━━━\u001b[0m\u001b[37m━\u001b[0m \u001b[1m0s\u001b[0m 7ms/step - accuracy: 0.0000e+00 - loss: 3.1414e-04\n",
            "Epoch 33: val_loss did not improve from 0.00001\n",
            "\u001b[1m60/60\u001b[0m \u001b[32m━━━━━━━━━━━━━━━━━━━━\u001b[0m\u001b[37m\u001b[0m \u001b[1m1s\u001b[0m 9ms/step - accuracy: 0.0000e+00 - loss: 3.1603e-04 - val_accuracy: 0.0026 - val_loss: 2.7316e-04\n",
            "Epoch 34/300\n",
            "\u001b[1m55/60\u001b[0m \u001b[32m━━━━━━━━━━━━━━━━━━\u001b[0m\u001b[37m━━\u001b[0m \u001b[1m0s\u001b[0m 7ms/step - accuracy: 0.0000e+00 - loss: 4.0036e-04\n",
            "Epoch 34: val_loss did not improve from 0.00001\n",
            "\u001b[1m60/60\u001b[0m \u001b[32m━━━━━━━━━━━━━━━━━━━━\u001b[0m\u001b[37m\u001b[0m \u001b[1m1s\u001b[0m 9ms/step - accuracy: 0.0000e+00 - loss: 4.0137e-04 - val_accuracy: 0.0026 - val_loss: 3.2850e-04\n",
            "Epoch 35/300\n",
            "\u001b[1m56/60\u001b[0m \u001b[32m━━━━━━━━━━━━━━━━━━\u001b[0m\u001b[37m━━\u001b[0m \u001b[1m0s\u001b[0m 7ms/step - accuracy: 0.0000e+00 - loss: 5.0096e-04\n",
            "Epoch 35: val_loss did not improve from 0.00001\n",
            "\u001b[1m60/60\u001b[0m \u001b[32m━━━━━━━━━━━━━━━━━━━━\u001b[0m\u001b[37m\u001b[0m \u001b[1m1s\u001b[0m 9ms/step - accuracy: 0.0000e+00 - loss: 4.9902e-04 - val_accuracy: 0.0026 - val_loss: 1.8019e-04\n",
            "Epoch 36/300\n",
            "\u001b[1m57/60\u001b[0m \u001b[32m━━━━━━━━━━━━━━━━━━━\u001b[0m\u001b[37m━\u001b[0m \u001b[1m0s\u001b[0m 7ms/step - accuracy: 0.0000e+00 - loss: 2.7272e-04\n",
            "Epoch 36: val_loss did not improve from 0.00001\n",
            "\u001b[1m60/60\u001b[0m \u001b[32m━━━━━━━━━━━━━━━━━━━━\u001b[0m\u001b[37m\u001b[0m \u001b[1m1s\u001b[0m 9ms/step - accuracy: 0.0000e+00 - loss: 2.7161e-04 - val_accuracy: 0.0026 - val_loss: 1.8733e-04\n",
            "Epoch 37/300\n",
            "\u001b[1m55/60\u001b[0m \u001b[32m━━━━━━━━━━━━━━━━━━\u001b[0m\u001b[37m━━\u001b[0m \u001b[1m0s\u001b[0m 9ms/step - accuracy: 0.0000e+00 - loss: 2.9692e-04\n",
            "Epoch 37: val_loss did not improve from 0.00001\n",
            "\u001b[1m60/60\u001b[0m \u001b[32m━━━━━━━━━━━━━━━━━━━━\u001b[0m\u001b[37m\u001b[0m \u001b[1m1s\u001b[0m 14ms/step - accuracy: 0.0000e+00 - loss: 2.9850e-04 - val_accuracy: 0.0026 - val_loss: 2.0911e-04\n",
            "Epoch 38/300\n",
            "\u001b[1m60/60\u001b[0m \u001b[32m━━━━━━━━━━━━━━━━━━━━\u001b[0m\u001b[37m\u001b[0m \u001b[1m0s\u001b[0m 10ms/step - accuracy: 0.0000e+00 - loss: 3.0943e-04\n",
            "Epoch 38: val_loss did not improve from 0.00001\n",
            "\u001b[1m60/60\u001b[0m \u001b[32m━━━━━━━━━━━━━━━━━━━━\u001b[0m\u001b[37m\u001b[0m \u001b[1m1s\u001b[0m 13ms/step - accuracy: 0.0000e+00 - loss: 3.0946e-04 - val_accuracy: 0.0026 - val_loss: 2.9745e-04\n",
            "Epoch 39/300\n",
            "\u001b[1m56/60\u001b[0m \u001b[32m━━━━━━━━━━━━━━━━━━\u001b[0m\u001b[37m━━\u001b[0m \u001b[1m0s\u001b[0m 10ms/step - accuracy: 0.0000e+00 - loss: 4.5387e-04\n",
            "Epoch 39: val_loss did not improve from 0.00001\n",
            "\u001b[1m60/60\u001b[0m \u001b[32m━━━━━━━━━━━━━━━━━━━━\u001b[0m\u001b[37m\u001b[0m \u001b[1m1s\u001b[0m 13ms/step - accuracy: 0.0000e+00 - loss: 4.5400e-04 - val_accuracy: 0.0026 - val_loss: 2.4331e-04\n"
          ]
        },
        {
          "output_type": "display_data",
          "data": {
            "text/plain": [
              "<Figure size 640x480 with 1 Axes>"
            ],
            "image/png": "[encoded data removed]"
          },
          "metadata": {}
        }
      ]
    },
    {
      "cell_type": "markdown",
      "metadata": {
        "id": "TXYRTsUCz077"
      },
      "source": [
        "## Test & Visualize"
      ]
    },
    {
      "cell_type": "code",
      "metadata": {
        "id": "eKWJkou4Ah5h",
        "outputId": "25dac24c-0927-4cfe-a37c-95ca8d72b0da",
        "colab": {
          "base_uri": "https://localhost:8080/"
        }
      },
      "source": [
        "list_of_files = glob.glob(dirName+'/*.h5') # * means all if need specific format then *.csv\n",
        "latest_file = max(list_of_files, key=os.path.getctime)\n",
        "print(latest_file)"
      ],
      "execution_count": null,
      "outputs": [
        {
          "output_type": "stream",
          "name": "stdout",
          "text": [
            "drive/My Drive/Data/lstm/prediction/single-step/ts-model-epoch:014-val-loss:0.000006.h5\n"
          ]
        }
      ]
    },
    {
      "cell_type": "code",
      "metadata": {
        "id": "GrheHfQwdoLW",
        "outputId": "9dcba9f6-62a1-4448-b2ff-aed62291a2d4",
        "colab": {
          "base_uri": "https://localhost:8080/",
          "height": 241
        }
      },
      "source": [
        "# load model\n",
        "# model_name = dirName+'/ts-model-epoch:009-val-loss:0.488986.h5'\n",
        "model_name = latest_file\n",
        "# dirName = datapath+'covid19/multi-step/SE/N22-2 no-covid'\n",
        "# model_name = dirName+'/covinomic-model-epoch:094-val-loss:0.000609.h5'\n",
        "model = tf.keras.models.load_model(model_name)\n",
        "model.summary()"
      ],
      "execution_count": null,
      "outputs": [
        {
          "output_type": "display_data",
          "data": {
            "text/plain": [
              "\u001b[1mModel: \"sequential\"\u001b[0m\n"
            ],
            "text/html": [
              "<pre style=\"white-space:pre;overflow-x:auto;line-height:normal;font-family:Menlo,'DejaVu Sans Mono',consolas,'Courier New',monospace\"><span style=\"font-weight: bold\">Model: \"sequential\"</span>\n",
              "</pre>\n"
            ]
          },
          "metadata": {}
        },
        {
          "output_type": "display_data",
          "data": {
            "text/plain": [
              "┏━━━━━━━━━━━━━━━━━━━━━━━━━━━━━━━━━┳━━━━━━━━━━━━━━━━━━━━━━━━┳━━━━━━━━━━━━━━━┓\n",
              "┃\u001b[1m \u001b[0m\u001b[1mLayer (type)                   \u001b[0m\u001b[1m \u001b[0m┃\u001b[1m \u001b[0m\u001b[1mOutput Shape          \u001b[0m\u001b[1m \u001b[0m┃\u001b[1m \u001b[0m\u001b[1m      Param #\u001b[0m\u001b[1m \u001b[0m┃\n",
              "┡━━━━━━━━━━━━━━━━━━━━━━━━━━━━━━━━━╇━━━━━━━━━━━━━━━━━━━━━━━━╇━━━━━━━━━━━━━━━┩\n",
              "│ lstm (\u001b[38;5;33mLSTM\u001b[0m)                     │ (\u001b[38;5;45mNone\u001b[0m, \u001b[38;5;34m50\u001b[0m)             │        \u001b[38;5;34m10,400\u001b[0m │\n",
              "├─────────────────────────────────┼────────────────────────┼───────────────┤\n",
              "│ dense (\u001b[38;5;33mDense\u001b[0m)                   │ (\u001b[38;5;45mNone\u001b[0m, \u001b[38;5;34m100\u001b[0m)            │         \u001b[38;5;34m5,100\u001b[0m │\n",
              "├─────────────────────────────────┼────────────────────────┼───────────────┤\n",
              "│ dense_1 (\u001b[38;5;33mDense\u001b[0m)                 │ (\u001b[38;5;45mNone\u001b[0m, \u001b[38;5;34m1\u001b[0m)              │           \u001b[38;5;34m101\u001b[0m │\n",
              "└─────────────────────────────────┴────────────────────────┴───────────────┘\n"
            ],
            "text/html": [
              "<pre style=\"white-space:pre;overflow-x:auto;line-height:normal;font-family:Menlo,'DejaVu Sans Mono',consolas,'Courier New',monospace\">┏━━━━━━━━━━━━━━━━━━━━━━━━━━━━━━━━━┳━━━━━━━━━━━━━━━━━━━━━━━━┳━━━━━━━━━━━━━━━┓\n",
              "┃<span style=\"font-weight: bold\"> Layer (type)                    </span>┃<span style=\"font-weight: bold\"> Output Shape           </span>┃<span style=\"font-weight: bold\">       Param # </span>┃\n",
              "┡━━━━━━━━━━━━━━━━━━━━━━━━━━━━━━━━━╇━━━━━━━━━━━━━━━━━━━━━━━━╇━━━━━━━━━━━━━━━┩\n",
              "│ lstm (<span style=\"color: #0087ff; text-decoration-color: #0087ff\">LSTM</span>)                     │ (<span style=\"color: #00d7ff; text-decoration-color: #00d7ff\">None</span>, <span style=\"color: #00af00; text-decoration-color: #00af00\">50</span>)             │        <span style=\"color: #00af00; text-decoration-color: #00af00\">10,400</span> │\n",
              "├─────────────────────────────────┼────────────────────────┼───────────────┤\n",
              "│ dense (<span style=\"color: #0087ff; text-decoration-color: #0087ff\">Dense</span>)                   │ (<span style=\"color: #00d7ff; text-decoration-color: #00d7ff\">None</span>, <span style=\"color: #00af00; text-decoration-color: #00af00\">100</span>)            │         <span style=\"color: #00af00; text-decoration-color: #00af00\">5,100</span> │\n",
              "├─────────────────────────────────┼────────────────────────┼───────────────┤\n",
              "│ dense_1 (<span style=\"color: #0087ff; text-decoration-color: #0087ff\">Dense</span>)                 │ (<span style=\"color: #00d7ff; text-decoration-color: #00d7ff\">None</span>, <span style=\"color: #00af00; text-decoration-color: #00af00\">1</span>)              │           <span style=\"color: #00af00; text-decoration-color: #00af00\">101</span> │\n",
              "└─────────────────────────────────┴────────────────────────┴───────────────┘\n",
              "</pre>\n"
            ]
          },
          "metadata": {}
        },
        {
          "output_type": "display_data",
          "data": {
            "text/plain": [
              "\u001b[1m Total params: \u001b[0m\u001b[38;5;34m15,603\u001b[0m (60.95 KB)\n"
            ],
            "text/html": [
              "<pre style=\"white-space:pre;overflow-x:auto;line-height:normal;font-family:Menlo,'DejaVu Sans Mono',consolas,'Courier New',monospace\"><span style=\"font-weight: bold\"> Total params: </span><span style=\"color: #00af00; text-decoration-color: #00af00\">15,603</span> (60.95 KB)\n",
              "</pre>\n"
            ]
          },
          "metadata": {}
        },
        {
          "output_type": "display_data",
          "data": {
            "text/plain": [
              "\u001b[1m Trainable params: \u001b[0m\u001b[38;5;34m15,601\u001b[0m (60.94 KB)\n"
            ],
            "text/html": [
              "<pre style=\"white-space:pre;overflow-x:auto;line-height:normal;font-family:Menlo,'DejaVu Sans Mono',consolas,'Courier New',monospace\"><span style=\"font-weight: bold\"> Trainable params: </span><span style=\"color: #00af00; text-decoration-color: #00af00\">15,601</span> (60.94 KB)\n",
              "</pre>\n"
            ]
          },
          "metadata": {}
        },
        {
          "output_type": "display_data",
          "data": {
            "text/plain": [
              "\u001b[1m Non-trainable params: \u001b[0m\u001b[38;5;34m0\u001b[0m (0.00 B)\n"
            ],
            "text/html": [
              "<pre style=\"white-space:pre;overflow-x:auto;line-height:normal;font-family:Menlo,'DejaVu Sans Mono',consolas,'Courier New',monospace\"><span style=\"font-weight: bold\"> Non-trainable params: </span><span style=\"color: #00af00; text-decoration-color: #00af00\">0</span> (0.00 B)\n",
              "</pre>\n"
            ]
          },
          "metadata": {}
        },
        {
          "output_type": "display_data",
          "data": {
            "text/plain": [
              "\u001b[1m Optimizer params: \u001b[0m\u001b[38;5;34m2\u001b[0m (12.00 B)\n"
            ],
            "text/html": [
              "<pre style=\"white-space:pre;overflow-x:auto;line-height:normal;font-family:Menlo,'DejaVu Sans Mono',consolas,'Courier New',monospace\"><span style=\"font-weight: bold\"> Optimizer params: </span><span style=\"color: #00af00; text-decoration-color: #00af00\">2</span> (12.00 B)\n",
              "</pre>\n"
            ]
          },
          "metadata": {}
        }
      ]
    },
    {
      "cell_type": "code",
      "metadata": {
        "id": "xK3kXY_GTfWW",
        "outputId": "ba9602c3-09a0-4a57-ddc3-a3278363326e",
        "colab": {
          "base_uri": "https://localhost:8080/"
        }
      },
      "source": [
        "trainPredict = model.predict(train_data_gen)\n",
        "testPredict = model.predict(test_data_gen)\n",
        "testGT = np.expand_dims(y_test,axis=1)[100:]\n"
      ],
      "execution_count": null,
      "outputs": [
        {
          "output_type": "stream",
          "name": "stdout",
          "text": [
            "\u001b[1m60/60\u001b[0m \u001b[32m━━━━━━━━━━━━━━━━━━━━\u001b[0m\u001b[37m\u001b[0m \u001b[1m0s\u001b[0m 7ms/step\n",
            "\u001b[1m24/24\u001b[0m \u001b[32m━━━━━━━━━━━━━━━━━━━━\u001b[0m\u001b[37m\u001b[0m \u001b[1m0s\u001b[0m 5ms/step\n"
          ]
        }
      ]
    },
    {
      "cell_type": "markdown",
      "metadata": {
        "id": "3QK1xj-y5DYJ"
      },
      "source": [
        "#### Get errors"
      ]
    },
    {
      "cell_type": "code",
      "metadata": {
        "id": "EvwyzFKyO-YD"
      },
      "source": [
        "# print each sample\n",
        "y_all = []\n",
        "x_all = []\n",
        "for i in range(len(test_data_gen)):\n",
        "    x, y = test_data_gen[i]\n",
        "    y_all.append(y)\n",
        "    x_all.append(x)\n",
        "    # print('%s => %s' % (x, y))\n",
        "# y_all"
      ],
      "execution_count": null,
      "outputs": []
    },
    {
      "cell_type": "code",
      "metadata": {
        "id": "9wst7LWSBE4J"
      },
      "source": [
        "if unscale:\n",
        "    testGT = min_max_scaler.inverse_transform(testGT)\n",
        "    testPredict = min_max_scaler.inverse_transform(testPredict)\n",
        "    x_test = min_max_scaler.inverse_transform(x_test)\n",
        "    draw = min_max_scaler.inverse_transform(np.expand_dims(draw,1))[:,0]"
      ],
      "execution_count": null,
      "outputs": []
    },
    {
      "cell_type": "code",
      "metadata": {
        "id": "a0d9_WLzOhwY"
      },
      "source": [
        "testPredict_reshaped = testPredict[:,0]\n",
        "testGT_reshaped = testGT[:,0]\n",
        "# testGT_reshaped = np.expand_dims(np.array(y_all).squeeze(),axis=1) # makes sense, but not needed. Will handle it by itself"
      ],
      "execution_count": null,
      "outputs": []
    },
    {
      "cell_type": "code",
      "metadata": {
        "id": "3L6KVtF4P6WP",
        "outputId": "b293d328-d811-4f3e-c7c9-d2e085f3437d",
        "colab": {
          "base_uri": "https://localhost:8080/"
        }
      },
      "source": [
        "# Get errors for all prediction days\n",
        "mse = model.evaluate(test_data_gen)\n",
        "rmse = np.sqrt(np.mean((testPredict_reshaped-testGT_reshaped)**2))\n",
        "mae = metrics.mean_absolute_error(testGT_reshaped,testPredict_reshaped)\n",
        "# msle = metrics.mean_squared_log_error(testGT_reshaped, testPredict_reshaped)\n",
        "r2 = metrics.r2_score(testGT_reshaped, testPredict_reshaped)\n",
        "# accuracy = (1-(np.abs(testPredict_reshaped - testGT_reshaped)/testGT_reshaped)).mean() #Not advised for continuous values"
      ],
      "execution_count": null,
      "outputs": [
        {
          "output_type": "stream",
          "name": "stdout",
          "text": [
            "\u001b[1m24/24\u001b[0m \u001b[32m━━━━━━━━━━━━━━━━━━━━\u001b[0m\u001b[37m\u001b[0m \u001b[1m1s\u001b[0m 6ms/step - accuracy: 0.0026 - loss: 8.6737e-06\n"
          ]
        }
      ]
    },
    {
      "cell_type": "code",
      "metadata": {
        "id": "0OGemqAc5T2s"
      },
      "source": [
        "assert testPredict_reshaped.shape==testGT_reshaped.shape, \"Oh no! Dimensions are not matching and the comparison is not valid!\""
      ],
      "execution_count": null,
      "outputs": []
    },
    {
      "cell_type": "code",
      "metadata": {
        "id": "P6k_O1GqdrRW",
        "outputId": "b6fa460e-d29f-4b92-8b4a-5ead6939ea5b",
        "colab": {
          "base_uri": "https://localhost:8080/"
        }
      },
      "source": [
        "print('RMSE',str(rmse)[:7])\n",
        "print('MSE avg',np.array(mse).mean())\n",
        "# print('MSE day one',str(np.array(mse)[0])[:7])\n",
        "print('MAE',str(mae)[:7])\n",
        "# print('MSLE',str(msle)[:7])\n",
        "print('R2',str(r2)[:7])\n",
        "# print('ACC',str(accuracy)[:7])"
      ],
      "execution_count": null,
      "outputs": [
        {
          "output_type": "stream",
          "name": "stdout",
          "text": [
            "RMSE 0.00324\n",
            "MSE avg 0.0013155815199752396\n",
            "MAE 0.00268\n",
            "R2 0.99994\n"
          ]
        }
      ]
    },
    {
      "cell_type": "markdown",
      "metadata": {
        "id": "tNbdnbDi9SGz"
      },
      "source": [
        "#### Plot test"
      ]
    },
    {
      "cell_type": "code",
      "metadata": {
        "id": "YgbwH5ZMiKgb"
      },
      "source": [
        "from google.colab import files\n",
        "preds = testPredict[:,0]\n",
        "preds = [\n",
        "        'RMSE: '+str(rmse)[:7],\n",
        "        'MSE avg: '+str(np.array(mse).mean()),\n",
        "        'MAE: '+str(mae)[:7],\n",
        "        # 'MSLE: '+str(msle)[:7],\n",
        "        'R2: '+str(r2)[:7],\n",
        "         '',\n",
        "        'Predictions'\n",
        "]+list(preds)\n",
        "pd.DataFrame(preds,columns=['predictions']).to_csv('drive/MyDrive/Data/lstm/results/'+str(experiment_id)+'_'+sample_file_name+'_'+sample_frequency+'- test results.csv',index=False,header=False)\n",
        "# files.download('drive/MyDrive/Data/HHT/'+str(experiment_id)+'_'+sample_file_name+'_'+sample_frequency+'- test results.csv')"
      ],
      "execution_count": null,
      "outputs": []
    },
    {
      "cell_type": "code",
      "metadata": {
        "id": "xw1IvXcjYioa",
        "outputId": "d2b4fd50-4c38-41e1-e483-326dde7fd538",
        "colab": {
          "base_uri": "https://localhost:8080/",
          "height": 437
        }
      },
      "source": [
        "os.makedirs('drive/MyDrive/Data/lstm/test plots/')\n",
        "plt.figure(num=None, figsize=(12, 6), dpi=80, facecolor='w', edgecolor='k')\n",
        "plt.plot(range(0,n_input), x_test[:100,0], 'bo--', linewidth=2, markersize=5)\n",
        "for i in range(0,testGT_reshaped.shape[0]):\n",
        "    # plt.plot(range(i+n_input,i+n_outputs+n_input), y_all[i][0], 'bo--', linewidth=2, markersize=5)\n",
        "    plt.plot(range(i+n_input,i+n_outputs+n_input), testPredict[i], 'gx--', linewidth=2, markersize=5)\n",
        "plt.plot(draw,'r+--')\n",
        "plt.plot([0],'w.')\n",
        "plt.title(str(experiment_id)+'_'+sample_file_name+'_'+sample_frequency+' | '+str(n_input)+\"->\"+str(n_outputs)+\" | RMSE:\"+str(rmse)[:6]+\" MAE:\"+str(mae)[:6]+\" MSE:\"+str(np.array(mse).mean())[1:6])\n",
        "plt.savefig('drive/MyDrive/Data/lstm/test plots/'+str(experiment_id)+'_'+sample_file_name+'_'+sample_frequency+'.png')\n",
        "plt.show()"
      ],
      "execution_count": null,
      "outputs": [
        {
          "output_type": "display_data",
          "data": {
            "text/plain": [
              "<Figure size 960x480 with 1 Axes>"
            ],
            "image/png": "[encoded data removed]"
          },
          "metadata": {}
        }
      ]
    },
    {
      "cell_type": "markdown",
      "metadata": {
        "id": "Bg36TjtMPyd4"
      },
      "source": [
        "# SECT 1 Output"
      ]
    },
    {
      "cell_type": "code",
      "metadata": {
        "id": "vE9nu3IRPxvI",
        "outputId": "0dd0c30f-d71f-460a-e6ea-2040466e4b74",
        "colab": {
          "base_uri": "https://localhost:8080/"
        }
      },
      "source": [
        "print('RMSE',str(rmse)[:7])\n",
        "print('MSE avg',np.array(mse).mean())\n",
        "# print('MSE day one',str(np.array(mse)[0])[:7])\n",
        "print('MAE',str(mae)[:7])\n",
        "# print('MSLE',str(msle)[:7])\n",
        "print('R2',str(r2)[:7])\n",
        "# print('ACC',str(accuracy)[:7])"
      ],
      "execution_count": null,
      "outputs": [
        {
          "output_type": "stream",
          "name": "stdout",
          "text": [
            "RMSE 0.00324\n",
            "MSE avg 0.0013155815199752396\n",
            "MAE 0.00268\n",
            "R2 0.99994\n"
          ]
        }
      ]
    },
    {
      "cell_type": "code",
      "metadata": {
        "id": "-E2bblG_U5di",
        "outputId": "15b811d2-87dc-4b77-9270-b307185c470c",
        "colab": {
          "base_uri": "https://localhost:8080/",
          "height": 241
        }
      },
      "source": [
        "model.summary()"
      ],
      "execution_count": null,
      "outputs": [
        {
          "output_type": "display_data",
          "data": {
            "text/plain": [
              "\u001b[1mModel: \"sequential\"\u001b[0m\n"
            ],
            "text/html": [
              "<pre style=\"white-space:pre;overflow-x:auto;line-height:normal;font-family:Menlo,'DejaVu Sans Mono',consolas,'Courier New',monospace\"><span style=\"font-weight: bold\">Model: \"sequential\"</span>\n",
              "</pre>\n"
            ]
          },
          "metadata": {}
        },
        {
          "output_type": "display_data",
          "data": {
            "text/plain": [
              "┏━━━━━━━━━━━━━━━━━━━━━━━━━━━━━━━━━┳━━━━━━━━━━━━━━━━━━━━━━━━┳━━━━━━━━━━━━━━━┓\n",
              "┃\u001b[1m \u001b[0m\u001b[1mLayer (type)                   \u001b[0m\u001b[1m \u001b[0m┃\u001b[1m \u001b[0m\u001b[1mOutput Shape          \u001b[0m\u001b[1m \u001b[0m┃\u001b[1m \u001b[0m\u001b[1m      Param #\u001b[0m\u001b[1m \u001b[0m┃\n",
              "┡━━━━━━━━━━━━━━━━━━━━━━━━━━━━━━━━━╇━━━━━━━━━━━━━━━━━━━━━━━━╇━━━━━━━━━━━━━━━┩\n",
              "│ lstm (\u001b[38;5;33mLSTM\u001b[0m)                     │ (\u001b[38;5;45mNone\u001b[0m, \u001b[38;5;34m50\u001b[0m)             │        \u001b[38;5;34m10,400\u001b[0m │\n",
              "├─────────────────────────────────┼────────────────────────┼───────────────┤\n",
              "│ dense (\u001b[38;5;33mDense\u001b[0m)                   │ (\u001b[38;5;45mNone\u001b[0m, \u001b[38;5;34m100\u001b[0m)            │         \u001b[38;5;34m5,100\u001b[0m │\n",
              "├─────────────────────────────────┼────────────────────────┼───────────────┤\n",
              "│ dense_1 (\u001b[38;5;33mDense\u001b[0m)                 │ (\u001b[38;5;45mNone\u001b[0m, \u001b[38;5;34m1\u001b[0m)              │           \u001b[38;5;34m101\u001b[0m │\n",
              "└─────────────────────────────────┴────────────────────────┴───────────────┘\n"
            ],
            "text/html": [
              "<pre style=\"white-space:pre;overflow-x:auto;line-height:normal;font-family:Menlo,'DejaVu Sans Mono',consolas,'Courier New',monospace\">┏━━━━━━━━━━━━━━━━━━━━━━━━━━━━━━━━━┳━━━━━━━━━━━━━━━━━━━━━━━━┳━━━━━━━━━━━━━━━┓\n",
              "┃<span style=\"font-weight: bold\"> Layer (type)                    </span>┃<span style=\"font-weight: bold\"> Output Shape           </span>┃<span style=\"font-weight: bold\">       Param # </span>┃\n",
              "┡━━━━━━━━━━━━━━━━━━━━━━━━━━━━━━━━━╇━━━━━━━━━━━━━━━━━━━━━━━━╇━━━━━━━━━━━━━━━┩\n",
              "│ lstm (<span style=\"color: #0087ff; text-decoration-color: #0087ff\">LSTM</span>)                     │ (<span style=\"color: #00d7ff; text-decoration-color: #00d7ff\">None</span>, <span style=\"color: #00af00; text-decoration-color: #00af00\">50</span>)             │        <span style=\"color: #00af00; text-decoration-color: #00af00\">10,400</span> │\n",
              "├─────────────────────────────────┼────────────────────────┼───────────────┤\n",
              "│ dense (<span style=\"color: #0087ff; text-decoration-color: #0087ff\">Dense</span>)                   │ (<span style=\"color: #00d7ff; text-decoration-color: #00d7ff\">None</span>, <span style=\"color: #00af00; text-decoration-color: #00af00\">100</span>)            │         <span style=\"color: #00af00; text-decoration-color: #00af00\">5,100</span> │\n",
              "├─────────────────────────────────┼────────────────────────┼───────────────┤\n",
              "│ dense_1 (<span style=\"color: #0087ff; text-decoration-color: #0087ff\">Dense</span>)                 │ (<span style=\"color: #00d7ff; text-decoration-color: #00d7ff\">None</span>, <span style=\"color: #00af00; text-decoration-color: #00af00\">1</span>)              │           <span style=\"color: #00af00; text-decoration-color: #00af00\">101</span> │\n",
              "└─────────────────────────────────┴────────────────────────┴───────────────┘\n",
              "</pre>\n"
            ]
          },
          "metadata": {}
        },
        {
          "output_type": "display_data",
          "data": {
            "text/plain": [
              "\u001b[1m Total params: \u001b[0m\u001b[38;5;34m15,603\u001b[0m (60.95 KB)\n"
            ],
            "text/html": [
              "<pre style=\"white-space:pre;overflow-x:auto;line-height:normal;font-family:Menlo,'DejaVu Sans Mono',consolas,'Courier New',monospace\"><span style=\"font-weight: bold\"> Total params: </span><span style=\"color: #00af00; text-decoration-color: #00af00\">15,603</span> (60.95 KB)\n",
              "</pre>\n"
            ]
          },
          "metadata": {}
        },
        {
          "output_type": "display_data",
          "data": {
            "text/plain": [
              "\u001b[1m Trainable params: \u001b[0m\u001b[38;5;34m15,601\u001b[0m (60.94 KB)\n"
            ],
            "text/html": [
              "<pre style=\"white-space:pre;overflow-x:auto;line-height:normal;font-family:Menlo,'DejaVu Sans Mono',consolas,'Courier New',monospace\"><span style=\"font-weight: bold\"> Trainable params: </span><span style=\"color: #00af00; text-decoration-color: #00af00\">15,601</span> (60.94 KB)\n",
              "</pre>\n"
            ]
          },
          "metadata": {}
        },
        {
          "output_type": "display_data",
          "data": {
            "text/plain": [
              "\u001b[1m Non-trainable params: \u001b[0m\u001b[38;5;34m0\u001b[0m (0.00 B)\n"
            ],
            "text/html": [
              "<pre style=\"white-space:pre;overflow-x:auto;line-height:normal;font-family:Menlo,'DejaVu Sans Mono',consolas,'Courier New',monospace\"><span style=\"font-weight: bold\"> Non-trainable params: </span><span style=\"color: #00af00; text-decoration-color: #00af00\">0</span> (0.00 B)\n",
              "</pre>\n"
            ]
          },
          "metadata": {}
        },
        {
          "output_type": "display_data",
          "data": {
            "text/plain": [
              "\u001b[1m Optimizer params: \u001b[0m\u001b[38;5;34m2\u001b[0m (12.00 B)\n"
            ],
            "text/html": [
              "<pre style=\"white-space:pre;overflow-x:auto;line-height:normal;font-family:Menlo,'DejaVu Sans Mono',consolas,'Courier New',monospace\"><span style=\"font-weight: bold\"> Optimizer params: </span><span style=\"color: #00af00; text-decoration-color: #00af00\">2</span> (12.00 B)\n",
              "</pre>\n"
            ]
          },
          "metadata": {}
        }
      ]
    },
    {
      "cell_type": "markdown",
      "metadata": {
        "id": "IFBfBmYvDYjH"
      },
      "source": [
        "# SECT 2"
      ]
    },
    {
      "cell_type": "markdown",
      "metadata": {
        "id": "_QQp8PNThMUd"
      },
      "source": [
        "## Multi Step"
      ]
    },
    {
      "cell_type": "code",
      "metadata": {
        "id": "QqOGsGNmI4Su"
      },
      "source": [
        "dirName = path+'prediction/multi-step/SE/model'"
      ],
      "execution_count": null,
      "outputs": []
    },
    {
      "cell_type": "markdown",
      "metadata": {
        "id": "wOcIInjQKPth"
      },
      "source": [
        "#### Bidirectional"
      ]
    },
    {
      "cell_type": "code",
      "metadata": {
        "id": "4-406UcvKPCz",
        "colab": {
          "base_uri": "https://localhost:8080/",
          "height": 316
        },
        "outputId": "f04c89ec-21ef-49b0-be11-fec97a957574"
      },
      "source": [
        "model = Sequential()\n",
        "model.add(Bidirectional(LSTM(200, input_shape=(n_steps,n_features), return_sequences=True)))\n",
        "model.add(TimeDistributed(Dense(200, activation='sigmoid')))\n",
        "model.add(TimeDistributed(Dense(1, activation='sigmoid')))\n",
        "model.compile(loss='binary_crossentropy', optimizer='adam', metrics=['accuracy'])\n",
        "model.summary()"
      ],
      "execution_count": null,
      "outputs": [
        {
          "output_type": "error",
          "ename": "ValueError",
          "evalue": "ignored",
          "traceback": [
            "\u001b[0;31m---------------------------------------------------------------------------\u001b[0m",
            "\u001b[0;31mValueError\u001b[0m                                Traceback (most recent call last)",
            "\u001b[0;32m<ipython-input-228-05be3d05e9d2>\u001b[0m in \u001b[0;36m<module>\u001b[0;34m()\u001b[0m\n\u001b[1;32m      4\u001b[0m \u001b[0mmodel\u001b[0m\u001b[0;34m.\u001b[0m\u001b[0madd\u001b[0m\u001b[0;34m(\u001b[0m\u001b[0mTimeDistributed\u001b[0m\u001b[0;34m(\u001b[0m\u001b[0mDense\u001b[0m\u001b[0;34m(\u001b[0m\u001b[0;36m1\u001b[0m\u001b[0;34m,\u001b[0m \u001b[0mactivation\u001b[0m\u001b[0;34m=\u001b[0m\u001b[0;34m'sigmoid'\u001b[0m\u001b[0;34m)\u001b[0m\u001b[0;34m)\u001b[0m\u001b[0;34m)\u001b[0m\u001b[0;34m\u001b[0m\u001b[0;34m\u001b[0m\u001b[0m\n\u001b[1;32m      5\u001b[0m \u001b[0mmodel\u001b[0m\u001b[0;34m.\u001b[0m\u001b[0mcompile\u001b[0m\u001b[0;34m(\u001b[0m\u001b[0mloss\u001b[0m\u001b[0;34m=\u001b[0m\u001b[0;34m'binary_crossentropy'\u001b[0m\u001b[0;34m,\u001b[0m \u001b[0moptimizer\u001b[0m\u001b[0;34m=\u001b[0m\u001b[0;34m'adam'\u001b[0m\u001b[0;34m,\u001b[0m \u001b[0mmetrics\u001b[0m\u001b[0;34m=\u001b[0m\u001b[0;34m[\u001b[0m\u001b[0;34m'accuracy'\u001b[0m\u001b[0;34m]\u001b[0m\u001b[0;34m)\u001b[0m\u001b[0;34m\u001b[0m\u001b[0;34m\u001b[0m\u001b[0m\n\u001b[0;32m----> 6\u001b[0;31m \u001b[0mmodel\u001b[0m\u001b[0;34m.\u001b[0m\u001b[0msummary\u001b[0m\u001b[0;34m(\u001b[0m\u001b[0;34m)\u001b[0m\u001b[0;34m\u001b[0m\u001b[0;34m\u001b[0m\u001b[0m\n\u001b[0m",
            "\u001b[0;32m/usr/local/lib/python3.7/dist-packages/keras/engine/training.py\u001b[0m in \u001b[0;36msummary\u001b[0;34m(self, line_length, positions, print_fn)\u001b[0m\n\u001b[1;32m   2450\u001b[0m     \"\"\"\n\u001b[1;32m   2451\u001b[0m     \u001b[0;32mif\u001b[0m \u001b[0;32mnot\u001b[0m \u001b[0mself\u001b[0m\u001b[0;34m.\u001b[0m\u001b[0mbuilt\u001b[0m\u001b[0;34m:\u001b[0m\u001b[0;34m\u001b[0m\u001b[0;34m\u001b[0m\u001b[0m\n\u001b[0;32m-> 2452\u001b[0;31m       raise ValueError('This model has not yet been built. '\n\u001b[0m\u001b[1;32m   2453\u001b[0m                        \u001b[0;34m'Build the model first by calling `build()` or calling '\u001b[0m\u001b[0;34m\u001b[0m\u001b[0;34m\u001b[0m\u001b[0m\n\u001b[1;32m   2454\u001b[0m                        \u001b[0;34m'`fit()` with some data, or specify '\u001b[0m\u001b[0;34m\u001b[0m\u001b[0;34m\u001b[0m\u001b[0m\n",
            "\u001b[0;31mValueError\u001b[0m: This model has not yet been built. Build the model first by calling `build()` or calling `fit()` with some data, or specify an `input_shape` argument in the first layer(s) for automatic build."
          ]
        }
      ]
    },
    {
      "cell_type": "code",
      "metadata": {
        "id": "PH5cpt_TYjsp",
        "colab": {
          "base_uri": "https://localhost:8080/"
        },
        "outputId": "80ea8f55-3be1-4b9c-f639-66e863a5e9d0"
      },
      "source": [
        "model = Sequential()\n",
        "model.add(Bidirectional(LSTM(100, activation='relu', return_sequences=True), input_shape=(n_steps, n_features)))\n",
        "model.add(TimeDistributed(Dense(200, activation='sigmoid')))\n",
        "model.add(TimeDistributed(Dense(1, activation='sigmoid')))\n",
        "model.add(Dense(1))\n",
        "model.compile(loss='mean_squared_error', optimizer='adam', metrics=['accuracy'])\n",
        "model.summary()"
      ],
      "execution_count": null,
      "outputs": [
        {
          "output_type": "stream",
          "text": [
            "WARNING:tensorflow:Layer lstm_23 will not use cuDNN kernels since it doesn't meet the criteria. It will use a generic GPU kernel as fallback when running on GPU.\n",
            "WARNING:tensorflow:Layer lstm_23 will not use cuDNN kernels since it doesn't meet the criteria. It will use a generic GPU kernel as fallback when running on GPU.\n",
            "WARNING:tensorflow:Layer lstm_23 will not use cuDNN kernels since it doesn't meet the criteria. It will use a generic GPU kernel as fallback when running on GPU.\n",
            "Model: \"sequential_26\"\n",
            "_________________________________________________________________\n",
            "Layer (type)                 Output Shape              Param #   \n",
            "=================================================================\n",
            "bidirectional_8 (Bidirection (None, 1, 200)            81600     \n",
            "_________________________________________________________________\n",
            "time_distributed_18 (TimeDis (None, 1, 200)            40200     \n",
            "_________________________________________________________________\n",
            "time_distributed_19 (TimeDis (None, 1, 1)              201       \n",
            "_________________________________________________________________\n",
            "dense_40 (Dense)             (None, 1, 1)              2         \n",
            "=================================================================\n",
            "Total params: 122,003\n",
            "Trainable params: 122,003\n",
            "Non-trainable params: 0\n",
            "_________________________________________________________________\n"
          ],
          "name": "stdout"
        }
      ]
    },
    {
      "cell_type": "markdown",
      "metadata": {
        "id": "ueDZe0-0Gypi"
      },
      "source": [
        "#### Series"
      ]
    },
    {
      "cell_type": "code",
      "metadata": {
        "colab": {
          "base_uri": "https://localhost:8080/"
        },
        "id": "UUs6L8XLGxko",
        "outputId": "15bca52e-7498-46fe-dec3-566c21a16dc0"
      },
      "source": [
        "# Prepare model\n",
        "model = Sequential()\n",
        "model.add(LSTM(units=100,input_shape=(n_input,n_features),return_sequences=True))\n",
        "# model.add(LSTM(units=200,return_sequences=True))\n",
        "model.add(LSTM(units=100)) # add or remove this to have a parallel LSTM, but if did, suggest using time distributed layers\n",
        "model.add(Dropout(0.1))\n",
        "model.add(Dense(100))\n",
        "model.add(Dense(n_outputs))\n",
        "# model.add(Activation('sigmoid'))\n",
        "\n",
        "# ADAM = Adam(0.0005, beta_1=0.9, beta_2=0.999, amsgrad=False)\n",
        "model.compile(loss='mean_squared_error', optimizer='adam', metrics=['accuracy'])\n",
        "\n",
        "model.summary()"
      ],
      "execution_count": null,
      "outputs": [
        {
          "output_type": "stream",
          "text": [
            "Model: \"sequential_3\"\n",
            "_________________________________________________________________\n",
            "Layer (type)                 Output Shape              Param #   \n",
            "=================================================================\n",
            "lstm_6 (LSTM)                (None, 100, 100)          40800     \n",
            "_________________________________________________________________\n",
            "lstm_7 (LSTM)                (None, 100)               80400     \n",
            "_________________________________________________________________\n",
            "dropout_3 (Dropout)          (None, 100)               0         \n",
            "_________________________________________________________________\n",
            "dense_6 (Dense)              (None, 100)               10100     \n",
            "_________________________________________________________________\n",
            "dense_7 (Dense)              (None, 1)                 101       \n",
            "=================================================================\n",
            "Total params: 131,401\n",
            "Trainable params: 131,401\n",
            "Non-trainable params: 0\n",
            "_________________________________________________________________\n"
          ],
          "name": "stdout"
        }
      ]
    },
    {
      "cell_type": "code",
      "metadata": {
        "colab": {
          "base_uri": "https://localhost:8080/"
        },
        "id": "UG05OdSXyhzg",
        "outputId": "4e0c73f1-5fc9-427b-cc00-e1ce386ec6cf"
      },
      "source": [
        "n_input"
      ],
      "execution_count": null,
      "outputs": [
        {
          "output_type": "execute_result",
          "data": {
            "text/plain": [
              "100"
            ]
          },
          "metadata": {
            "tags": []
          },
          "execution_count": 26
        }
      ]
    },
    {
      "cell_type": "code",
      "metadata": {
        "colab": {
          "base_uri": "https://localhost:8080/"
        },
        "id": "iLS_ZpOFciKR",
        "outputId": "918cdea0-3e75-4547-b629-c47f6def6a93"
      },
      "source": [
        "n_outputs"
      ],
      "execution_count": null,
      "outputs": [
        {
          "output_type": "execute_result",
          "data": {
            "text/plain": [
              "1"
            ]
          },
          "metadata": {
            "tags": []
          },
          "execution_count": 27
        }
      ]
    },
    {
      "cell_type": "code",
      "metadata": {
        "colab": {
          "base_uri": "https://localhost:8080/"
        },
        "id": "NnZgZ3iuciKR",
        "outputId": "1ef49036-227d-441c-80b3-a21e60a8ac5d"
      },
      "source": [
        "n_features"
      ],
      "execution_count": null,
      "outputs": [
        {
          "output_type": "execute_result",
          "data": {
            "text/plain": [
              "1"
            ]
          },
          "metadata": {
            "tags": []
          },
          "execution_count": 28
        }
      ]
    },
    {
      "cell_type": "markdown",
      "metadata": {
        "id": "XYjMdOt9G05m"
      },
      "source": [
        "#### Encoder / Decoder"
      ]
    },
    {
      "cell_type": "code",
      "metadata": {
        "id": "4kot0vFThMUe"
      },
      "source": [
        "model = Sequential()\n",
        "# Encoder\n",
        "model.add(LSTM(200, activation='relu', input_shape=(n_input, n_features)))\n",
        "model.add(RepeatVector(n_outputs))\n",
        "# Decoder\n",
        "model.add(LSTM(200, activation='relu', return_sequences=True))\n",
        "# model.add(LSTM(200, activation='relu', return_sequences=True))\n",
        "# model.add(Dropout(0.1))\n",
        "model.add(TimeDistributed(Dense(100, activation='relu')))\n",
        "# model.add(Dropout(0.1))\n",
        "# model.add(TimeDistributed(Dense(30)))\n",
        "model.add(TimeDistributed(Dense(1)))\n",
        "# model.add(Activation('sigmoid'))\n",
        "\n",
        "# ADAM = Adam(0.0005, beta_1=0.9, beta_2=0.999, amsgrad=False)\n",
        "# model.compile(loss='mean_squared_error', optimizer=ADAM, metrics=['accuracy'])\n",
        "model.compile(loss='mse', optimizer='adam')\n",
        "# model.fit(train_x, train_y, epochs=epochs, batch_size=batch_size, verbose=verbose)\n",
        "\n",
        "model.summary()"
      ],
      "execution_count": null,
      "outputs": []
    },
    {
      "cell_type": "markdown",
      "metadata": {
        "id": "q2xOjPApciKR"
      },
      "source": [
        "#### ED BD"
      ]
    },
    {
      "cell_type": "code",
      "metadata": {
        "id": "k6yRJR9_ciKS"
      },
      "source": [
        "model = Sequential()\n",
        "# Encoder\n",
        "model.add(Bidirectional(LSTM(300, activation='relu'), input_shape=(n_input, n_features)))\n",
        "model.add(RepeatVector(n_outputs))\n",
        "# Decoder\n",
        "model.add(LSTM(200, activation='relu', return_sequences=True))\n",
        "# model.add(LSTM(200, activation='relu', return_sequences=True))\n",
        "# model.add(Dropout(0.1))\n",
        "model.add(TimeDistributed(Dense(150, activation='relu')))\n",
        "# model.add(TimeDistributed(Dense(30)))\n",
        "model.add(TimeDistributed(Dense(1)))\n",
        "\n",
        "model.compile(loss='mse', optimizer='adam')\n",
        "\n",
        "model.summary()"
      ],
      "execution_count": null,
      "outputs": []
    },
    {
      "cell_type": "markdown",
      "metadata": {
        "id": "t1AsYsHa4r9X"
      },
      "source": [
        "#### CNN LSTM"
      ]
    },
    {
      "cell_type": "code",
      "metadata": {
        "id": "BKJrFkB34rTx",
        "colab": {
          "base_uri": "https://localhost:8080/"
        },
        "outputId": "9c5c345e-0681-4f74-d536-dc5d3ef01d79"
      },
      "source": [
        "model = Sequential()\n",
        "# Encoder\n",
        "model.add(Conv1D(filters=100, kernel_size=3, activation='relu', input_shape=(n_input,n_features)))\n",
        "model.add(Conv1D(filters=200, kernel_size=3, activation='relu'))\n",
        "# model.add(Dropout(0.1))\n",
        "model.add(MaxPooling1D(pool_size=2))\n",
        "model.add(Flatten())\n",
        "model.add(RepeatVector(n_outputs))\n",
        "# Decoder\n",
        "model.add(LSTM(100, activation='relu', return_sequences=True))\n",
        "# model.add(Dropout(0.1))\n",
        "model.add(TimeDistributed(Dense(100, activation='relu')))\n",
        "model.add(TimeDistributed(Dense(1)))\n",
        "model.compile(loss='mse', optimizer='adam')\n",
        "model.summary()"
      ],
      "execution_count": null,
      "outputs": [
        {
          "output_type": "stream",
          "text": [
            "WARNING:tensorflow:Layer lstm_2 will not use cuDNN kernels since it doesn't meet the criteria. It will use a generic GPU kernel as fallback when running on GPU.\n",
            "Model: \"sequential_3\"\n",
            "_________________________________________________________________\n",
            "Layer (type)                 Output Shape              Param #   \n",
            "=================================================================\n",
            "conv1d_2 (Conv1D)            (None, 98, 100)           400       \n",
            "_________________________________________________________________\n",
            "conv1d_3 (Conv1D)            (None, 96, 200)           60200     \n",
            "_________________________________________________________________\n",
            "max_pooling1d_1 (MaxPooling1 (None, 48, 200)           0         \n",
            "_________________________________________________________________\n",
            "flatten_1 (Flatten)          (None, 9600)              0         \n",
            "_________________________________________________________________\n",
            "repeat_vector_1 (RepeatVecto (None, 1, 9600)           0         \n",
            "_________________________________________________________________\n",
            "lstm_2 (LSTM)                (None, 1, 100)            3880400   \n",
            "_________________________________________________________________\n",
            "time_distributed_2 (TimeDist (None, 1, 100)            10100     \n",
            "_________________________________________________________________\n",
            "time_distributed_3 (TimeDist (None, 1, 1)              101       \n",
            "=================================================================\n",
            "Total params: 3,951,201\n",
            "Trainable params: 3,951,201\n",
            "Non-trainable params: 0\n",
            "_________________________________________________________________\n"
          ],
          "name": "stdout"
        }
      ]
    },
    {
      "cell_type": "markdown",
      "metadata": {
        "id": "wezhpXeL6ryR"
      },
      "source": [
        "#### CONV LSTM"
      ]
    },
    {
      "cell_type": "code",
      "metadata": {
        "id": "jnJSNUwG6qkD"
      },
      "source": [
        "model = Sequential()\n",
        "model.add(ConvLSTM2D(filters=64, kernel_size=(1,3), activation='relu', input_shape=(n_input, 1, n_length, n_features)))\n",
        "model.add(Flatten())\n",
        "model.add(RepeatVector(n_outputs))\n",
        "model.add(LSTM(200, activation='relu', return_sequences=True))\n",
        "model.add(TimeDistributed(Dense(100, activation='relu')))\n",
        "model.add(TimeDistributed(Dense(1)))\n",
        "model.compile(loss='mse', optimizer='adam')"
      ],
      "execution_count": null,
      "outputs": []
    },
    {
      "cell_type": "markdown",
      "metadata": {
        "id": "di2b4-m84urB"
      },
      "source": [
        "#### Train"
      ]
    },
    {
      "cell_type": "code",
      "metadata": {
        "colab": {
          "base_uri": "https://localhost:8080/",
          "height": 425
        },
        "id": "LfpD0mjUciKT",
        "outputId": "42309204-dad3-4865-c21a-07d97d328731"
      },
      "source": [
        "# Train\n",
        "try:\n",
        "    os.makedirs(dirName)\n",
        "    print('created path:',dirName)\n",
        "except:\n",
        "    print('path exists')\n",
        "checkpoint = ModelCheckpoint(dirName+'/sine-model-epoch:{epoch:03d}-val-loss:{val_loss:05f}.h5', verbose=1, monitor='val_loss',save_best_only=True, mode='auto')\n",
        "callback = tf.keras.callbacks.EarlyStopping(monitor='val_loss',patience=15)\n",
        "\n",
        "history = model.fit(train_data_gen,\n",
        "                            validation_data=test_data_gen, callbacks=[checkpoint,callback],\n",
        "                            epochs=300,verbose=1,shuffle=False)\n",
        "plot_graphs(history,'loss')\n",
        "model.summary()"
      ],
      "execution_count": null,
      "outputs": [
        {
          "output_type": "stream",
          "text": [
            "path exists\n",
            "Epoch 1/300\n",
            " 279/1999 [===>..........................] - ETA: 7:30 - loss: 0.5511 - accuracy: 0.0000e+00"
          ],
          "name": "stdout"
        },
        {
          "output_type": "error",
          "ename": "KeyboardInterrupt",
          "evalue": "ignored",
          "traceback": [
            "\u001b[0;31m---------------------------------------------------------------------------\u001b[0m",
            "\u001b[0;31mKeyboardInterrupt\u001b[0m                         Traceback (most recent call last)",
            "\u001b[0;32m<ipython-input-238-0f4cbe3dcbb6>\u001b[0m in \u001b[0;36m<module>\u001b[0;34m()\u001b[0m\n\u001b[1;32m     10\u001b[0m history = model.fit(train_data_gen,\n\u001b[1;32m     11\u001b[0m                             \u001b[0mvalidation_data\u001b[0m\u001b[0;34m=\u001b[0m\u001b[0mtest_data_gen\u001b[0m\u001b[0;34m,\u001b[0m \u001b[0mcallbacks\u001b[0m\u001b[0;34m=\u001b[0m\u001b[0;34m[\u001b[0m\u001b[0mcheckpoint\u001b[0m\u001b[0;34m,\u001b[0m\u001b[0mcallback\u001b[0m\u001b[0;34m]\u001b[0m\u001b[0;34m,\u001b[0m\u001b[0;34m\u001b[0m\u001b[0;34m\u001b[0m\u001b[0m\n\u001b[0;32m---> 12\u001b[0;31m                             epochs=300,verbose=1,shuffle=False)\n\u001b[0m\u001b[1;32m     13\u001b[0m \u001b[0mplot_graphs\u001b[0m\u001b[0;34m(\u001b[0m\u001b[0mhistory\u001b[0m\u001b[0;34m,\u001b[0m\u001b[0;34m'loss'\u001b[0m\u001b[0;34m)\u001b[0m\u001b[0;34m\u001b[0m\u001b[0;34m\u001b[0m\u001b[0m\n\u001b[1;32m     14\u001b[0m \u001b[0mmodel\u001b[0m\u001b[0;34m.\u001b[0m\u001b[0msummary\u001b[0m\u001b[0;34m(\u001b[0m\u001b[0;34m)\u001b[0m\u001b[0;34m\u001b[0m\u001b[0;34m\u001b[0m\u001b[0m\n",
            "\u001b[0;32m/usr/local/lib/python3.7/dist-packages/keras/engine/training.py\u001b[0m in \u001b[0;36mfit\u001b[0;34m(self, x, y, batch_size, epochs, verbose, callbacks, validation_split, validation_data, shuffle, class_weight, sample_weight, initial_epoch, steps_per_epoch, validation_steps, validation_batch_size, validation_freq, max_queue_size, workers, use_multiprocessing)\u001b[0m\n\u001b[1;32m   1156\u001b[0m                 _r=1):\n\u001b[1;32m   1157\u001b[0m               \u001b[0mcallbacks\u001b[0m\u001b[0;34m.\u001b[0m\u001b[0mon_train_batch_begin\u001b[0m\u001b[0;34m(\u001b[0m\u001b[0mstep\u001b[0m\u001b[0;34m)\u001b[0m\u001b[0;34m\u001b[0m\u001b[0;34m\u001b[0m\u001b[0m\n\u001b[0;32m-> 1158\u001b[0;31m               \u001b[0mtmp_logs\u001b[0m \u001b[0;34m=\u001b[0m \u001b[0mself\u001b[0m\u001b[0;34m.\u001b[0m\u001b[0mtrain_function\u001b[0m\u001b[0;34m(\u001b[0m\u001b[0miterator\u001b[0m\u001b[0;34m)\u001b[0m\u001b[0;34m\u001b[0m\u001b[0;34m\u001b[0m\u001b[0m\n\u001b[0m\u001b[1;32m   1159\u001b[0m               \u001b[0;32mif\u001b[0m \u001b[0mdata_handler\u001b[0m\u001b[0;34m.\u001b[0m\u001b[0mshould_sync\u001b[0m\u001b[0;34m:\u001b[0m\u001b[0;34m\u001b[0m\u001b[0;34m\u001b[0m\u001b[0m\n\u001b[1;32m   1160\u001b[0m                 \u001b[0mcontext\u001b[0m\u001b[0;34m.\u001b[0m\u001b[0masync_wait\u001b[0m\u001b[0;34m(\u001b[0m\u001b[0;34m)\u001b[0m\u001b[0;34m\u001b[0m\u001b[0;34m\u001b[0m\u001b[0m\n",
            "\u001b[0;32m/usr/local/lib/python3.7/dist-packages/tensorflow/python/eager/def_function.py\u001b[0m in \u001b[0;36m__call__\u001b[0;34m(self, *args, **kwds)\u001b[0m\n\u001b[1;32m    887\u001b[0m \u001b[0;34m\u001b[0m\u001b[0m\n\u001b[1;32m    888\u001b[0m       \u001b[0;32mwith\u001b[0m \u001b[0mOptionalXlaContext\u001b[0m\u001b[0;34m(\u001b[0m\u001b[0mself\u001b[0m\u001b[0;34m.\u001b[0m\u001b[0m_jit_compile\u001b[0m\u001b[0;34m)\u001b[0m\u001b[0;34m:\u001b[0m\u001b[0;34m\u001b[0m\u001b[0;34m\u001b[0m\u001b[0m\n\u001b[0;32m--> 889\u001b[0;31m         \u001b[0mresult\u001b[0m \u001b[0;34m=\u001b[0m \u001b[0mself\u001b[0m\u001b[0;34m.\u001b[0m\u001b[0m_call\u001b[0m\u001b[0;34m(\u001b[0m\u001b[0;34m*\u001b[0m\u001b[0margs\u001b[0m\u001b[0;34m,\u001b[0m \u001b[0;34m**\u001b[0m\u001b[0mkwds\u001b[0m\u001b[0;34m)\u001b[0m\u001b[0;34m\u001b[0m\u001b[0;34m\u001b[0m\u001b[0m\n\u001b[0m\u001b[1;32m    890\u001b[0m \u001b[0;34m\u001b[0m\u001b[0m\n\u001b[1;32m    891\u001b[0m       \u001b[0mnew_tracing_count\u001b[0m \u001b[0;34m=\u001b[0m \u001b[0mself\u001b[0m\u001b[0;34m.\u001b[0m\u001b[0mexperimental_get_tracing_count\u001b[0m\u001b[0;34m(\u001b[0m\u001b[0;34m)\u001b[0m\u001b[0;34m\u001b[0m\u001b[0;34m\u001b[0m\u001b[0m\n",
            "\u001b[0;32m/usr/local/lib/python3.7/dist-packages/tensorflow/python/eager/def_function.py\u001b[0m in \u001b[0;36m_call\u001b[0;34m(self, *args, **kwds)\u001b[0m\n\u001b[1;32m    915\u001b[0m       \u001b[0;31m# In this case we have created variables on the first call, so we run the\u001b[0m\u001b[0;34m\u001b[0m\u001b[0;34m\u001b[0m\u001b[0;34m\u001b[0m\u001b[0m\n\u001b[1;32m    916\u001b[0m       \u001b[0;31m# defunned version which is guaranteed to never create variables.\u001b[0m\u001b[0;34m\u001b[0m\u001b[0;34m\u001b[0m\u001b[0;34m\u001b[0m\u001b[0m\n\u001b[0;32m--> 917\u001b[0;31m       \u001b[0;32mreturn\u001b[0m \u001b[0mself\u001b[0m\u001b[0;34m.\u001b[0m\u001b[0m_stateless_fn\u001b[0m\u001b[0;34m(\u001b[0m\u001b[0;34m*\u001b[0m\u001b[0margs\u001b[0m\u001b[0;34m,\u001b[0m \u001b[0;34m**\u001b[0m\u001b[0mkwds\u001b[0m\u001b[0;34m)\u001b[0m  \u001b[0;31m# pylint: disable=not-callable\u001b[0m\u001b[0;34m\u001b[0m\u001b[0;34m\u001b[0m\u001b[0m\n\u001b[0m\u001b[1;32m    918\u001b[0m     \u001b[0;32melif\u001b[0m \u001b[0mself\u001b[0m\u001b[0;34m.\u001b[0m\u001b[0m_stateful_fn\u001b[0m \u001b[0;32mis\u001b[0m \u001b[0;32mnot\u001b[0m \u001b[0;32mNone\u001b[0m\u001b[0;34m:\u001b[0m\u001b[0;34m\u001b[0m\u001b[0;34m\u001b[0m\u001b[0m\n\u001b[1;32m    919\u001b[0m       \u001b[0;31m# Release the lock early so that multiple threads can perform the call\u001b[0m\u001b[0;34m\u001b[0m\u001b[0;34m\u001b[0m\u001b[0;34m\u001b[0m\u001b[0m\n",
            "\u001b[0;32m/usr/local/lib/python3.7/dist-packages/tensorflow/python/eager/function.py\u001b[0m in \u001b[0;36m__call__\u001b[0;34m(self, *args, **kwargs)\u001b[0m\n\u001b[1;32m   3022\u001b[0m        filtered_flat_args) = self._maybe_define_function(args, kwargs)\n\u001b[1;32m   3023\u001b[0m     return graph_function._call_flat(\n\u001b[0;32m-> 3024\u001b[0;31m         filtered_flat_args, captured_inputs=graph_function.captured_inputs)  # pylint: disable=protected-access\n\u001b[0m\u001b[1;32m   3025\u001b[0m \u001b[0;34m\u001b[0m\u001b[0m\n\u001b[1;32m   3026\u001b[0m   \u001b[0;34m@\u001b[0m\u001b[0mproperty\u001b[0m\u001b[0;34m\u001b[0m\u001b[0;34m\u001b[0m\u001b[0m\n",
            "\u001b[0;32m/usr/local/lib/python3.7/dist-packages/tensorflow/python/eager/function.py\u001b[0m in \u001b[0;36m_call_flat\u001b[0;34m(self, args, captured_inputs, cancellation_manager)\u001b[0m\n\u001b[1;32m   1959\u001b[0m       \u001b[0;31m# No tape is watching; skip to running the function.\u001b[0m\u001b[0;34m\u001b[0m\u001b[0;34m\u001b[0m\u001b[0;34m\u001b[0m\u001b[0m\n\u001b[1;32m   1960\u001b[0m       return self._build_call_outputs(self._inference_function.call(\n\u001b[0;32m-> 1961\u001b[0;31m           ctx, args, cancellation_manager=cancellation_manager))\n\u001b[0m\u001b[1;32m   1962\u001b[0m     forward_backward = self._select_forward_and_backward_functions(\n\u001b[1;32m   1963\u001b[0m         \u001b[0margs\u001b[0m\u001b[0;34m,\u001b[0m\u001b[0;34m\u001b[0m\u001b[0;34m\u001b[0m\u001b[0m\n",
            "\u001b[0;32m/usr/local/lib/python3.7/dist-packages/tensorflow/python/eager/function.py\u001b[0m in \u001b[0;36mcall\u001b[0;34m(self, ctx, args, cancellation_manager)\u001b[0m\n\u001b[1;32m    594\u001b[0m               \u001b[0minputs\u001b[0m\u001b[0;34m=\u001b[0m\u001b[0margs\u001b[0m\u001b[0;34m,\u001b[0m\u001b[0;34m\u001b[0m\u001b[0;34m\u001b[0m\u001b[0m\n\u001b[1;32m    595\u001b[0m               \u001b[0mattrs\u001b[0m\u001b[0;34m=\u001b[0m\u001b[0mattrs\u001b[0m\u001b[0;34m,\u001b[0m\u001b[0;34m\u001b[0m\u001b[0;34m\u001b[0m\u001b[0m\n\u001b[0;32m--> 596\u001b[0;31m               ctx=ctx)\n\u001b[0m\u001b[1;32m    597\u001b[0m         \u001b[0;32melse\u001b[0m\u001b[0;34m:\u001b[0m\u001b[0;34m\u001b[0m\u001b[0;34m\u001b[0m\u001b[0m\n\u001b[1;32m    598\u001b[0m           outputs = execute.execute_with_cancellation(\n",
            "\u001b[0;32m/usr/local/lib/python3.7/dist-packages/tensorflow/python/eager/execute.py\u001b[0m in \u001b[0;36mquick_execute\u001b[0;34m(op_name, num_outputs, inputs, attrs, ctx, name)\u001b[0m\n\u001b[1;32m     58\u001b[0m     \u001b[0mctx\u001b[0m\u001b[0;34m.\u001b[0m\u001b[0mensure_initialized\u001b[0m\u001b[0;34m(\u001b[0m\u001b[0;34m)\u001b[0m\u001b[0;34m\u001b[0m\u001b[0;34m\u001b[0m\u001b[0m\n\u001b[1;32m     59\u001b[0m     tensors = pywrap_tfe.TFE_Py_Execute(ctx._handle, device_name, op_name,\n\u001b[0;32m---> 60\u001b[0;31m                                         inputs, attrs, num_outputs)\n\u001b[0m\u001b[1;32m     61\u001b[0m   \u001b[0;32mexcept\u001b[0m \u001b[0mcore\u001b[0m\u001b[0;34m.\u001b[0m\u001b[0m_NotOkStatusException\u001b[0m \u001b[0;32mas\u001b[0m \u001b[0me\u001b[0m\u001b[0;34m:\u001b[0m\u001b[0;34m\u001b[0m\u001b[0;34m\u001b[0m\u001b[0m\n\u001b[1;32m     62\u001b[0m     \u001b[0;32mif\u001b[0m \u001b[0mname\u001b[0m \u001b[0;32mis\u001b[0m \u001b[0;32mnot\u001b[0m \u001b[0;32mNone\u001b[0m\u001b[0;34m:\u001b[0m\u001b[0;34m\u001b[0m\u001b[0;34m\u001b[0m\u001b[0m\n",
            "\u001b[0;31mKeyboardInterrupt\u001b[0m: "
          ]
        }
      ]
    }
  ]
}